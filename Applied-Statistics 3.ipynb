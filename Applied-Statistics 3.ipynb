{
  "nbformat": 4,
  "nbformat_minor": 0,
  "metadata": {
    "colab": {
      "name": "GL part 3",
      "provenance": []
    },
    "kernelspec": {
      "name": "python3",
      "display_name": "Python 3"
    },
    "language_info": {
      "name": "python"
    }
  },
  "cells": [
    {
      "cell_type": "markdown",
      "metadata": {
        "id": "QE6SoEgNxdpC"
      },
      "source": [
        "**DOMAIN:** Sports\n",
        "\n",
        "**CONTEXT:** Company X manages the men's top professional basketball division of the American league system. The dataset contains information on all the teams that have participated in all the past tournaments. It has data about how many baskets each team scored, conceded, how many times they came within the first 2 positions, how many tournaments they have qualified, their best position in the past, etc.\n",
        "\n",
        "**DATA DESCRIPTION:** Basketball.csv - The data set contains information on all the teams so far participated in\n",
        "all the past tournaments.\n"
      ]
    },
    {
      "cell_type": "code",
      "metadata": {
        "id": "5nGFVYydxvMi"
      },
      "source": [
        "import pandas as pd\n",
        "import numpy as np\n",
        "from matplotlib import pyplot as plt\n",
        "import seaborn as sns"
      ],
      "execution_count": null,
      "outputs": []
    },
    {
      "cell_type": "markdown",
      "metadata": {
        "id": "1ygYp_Xv2nji"
      },
      "source": [
        "**Read the CSV file.**"
      ]
    },
    {
      "cell_type": "code",
      "metadata": {
        "colab": {
          "base_uri": "https://localhost:8080/",
          "height": 419
        },
        "id": "PvZxlwnmyy-n",
        "outputId": "c03121cf-52cc-45f8-c593-3b8043c00cd4"
      },
      "source": [
        "df = pd.read_csv(\"CompanyX_EU.csv\")\n",
        "df"
      ],
      "execution_count": null,
      "outputs": [
        {
          "output_type": "execute_result",
          "data": {
            "text/html": [
              "<div>\n",
              "<style scoped>\n",
              "    .dataframe tbody tr th:only-of-type {\n",
              "        vertical-align: middle;\n",
              "    }\n",
              "\n",
              "    .dataframe tbody tr th {\n",
              "        vertical-align: top;\n",
              "    }\n",
              "\n",
              "    .dataframe thead th {\n",
              "        text-align: right;\n",
              "    }\n",
              "</style>\n",
              "<table border=\"1\" class=\"dataframe\">\n",
              "  <thead>\n",
              "    <tr style=\"text-align: right;\">\n",
              "      <th></th>\n",
              "      <th>Startup</th>\n",
              "      <th>Product</th>\n",
              "      <th>Funding</th>\n",
              "      <th>Event</th>\n",
              "      <th>Result</th>\n",
              "      <th>OperatingState</th>\n",
              "    </tr>\n",
              "  </thead>\n",
              "  <tbody>\n",
              "    <tr>\n",
              "      <th>0</th>\n",
              "      <td>2600Hz</td>\n",
              "      <td>2600hz.com</td>\n",
              "      <td>NaN</td>\n",
              "      <td>Disrupt SF 2013</td>\n",
              "      <td>Contestant</td>\n",
              "      <td>Operating</td>\n",
              "    </tr>\n",
              "    <tr>\n",
              "      <th>1</th>\n",
              "      <td>3DLT</td>\n",
              "      <td>3dlt.com</td>\n",
              "      <td>$630K</td>\n",
              "      <td>Disrupt NYC 2013</td>\n",
              "      <td>Contestant</td>\n",
              "      <td>Closed</td>\n",
              "    </tr>\n",
              "    <tr>\n",
              "      <th>2</th>\n",
              "      <td>3DPrinterOS</td>\n",
              "      <td>3dprinteros.com</td>\n",
              "      <td>NaN</td>\n",
              "      <td>Disrupt SF 2016</td>\n",
              "      <td>Contestant</td>\n",
              "      <td>Operating</td>\n",
              "    </tr>\n",
              "    <tr>\n",
              "      <th>3</th>\n",
              "      <td>3Dprintler</td>\n",
              "      <td>3dprintler.com</td>\n",
              "      <td>$1M</td>\n",
              "      <td>Disrupt NY 2016</td>\n",
              "      <td>Audience choice</td>\n",
              "      <td>Operating</td>\n",
              "    </tr>\n",
              "    <tr>\n",
              "      <th>4</th>\n",
              "      <td>42 Technologies</td>\n",
              "      <td>42technologies.com</td>\n",
              "      <td>NaN</td>\n",
              "      <td>Disrupt NYC 2013</td>\n",
              "      <td>Contestant</td>\n",
              "      <td>Operating</td>\n",
              "    </tr>\n",
              "    <tr>\n",
              "      <th>...</th>\n",
              "      <td>...</td>\n",
              "      <td>...</td>\n",
              "      <td>...</td>\n",
              "      <td>...</td>\n",
              "      <td>...</td>\n",
              "      <td>...</td>\n",
              "    </tr>\n",
              "    <tr>\n",
              "      <th>657</th>\n",
              "      <td>Zivity</td>\n",
              "      <td>zivity.com</td>\n",
              "      <td>$8M</td>\n",
              "      <td>TC40 2007</td>\n",
              "      <td>Contestant</td>\n",
              "      <td>Operating</td>\n",
              "    </tr>\n",
              "    <tr>\n",
              "      <th>658</th>\n",
              "      <td>Zmorph</td>\n",
              "      <td>zmorph3d.com</td>\n",
              "      <td>$1M</td>\n",
              "      <td>-</td>\n",
              "      <td>Audience choice</td>\n",
              "      <td>Operating</td>\n",
              "    </tr>\n",
              "    <tr>\n",
              "      <th>659</th>\n",
              "      <td>Zocdoc</td>\n",
              "      <td>zocdoc.com</td>\n",
              "      <td>$223M</td>\n",
              "      <td>TC40 2007</td>\n",
              "      <td>Contestant</td>\n",
              "      <td>Operating</td>\n",
              "    </tr>\n",
              "    <tr>\n",
              "      <th>660</th>\n",
              "      <td>Zula</td>\n",
              "      <td>zulaapp.com</td>\n",
              "      <td>$3.4M</td>\n",
              "      <td>Disrupt SF 2013</td>\n",
              "      <td>Audience choice</td>\n",
              "      <td>Operating</td>\n",
              "    </tr>\n",
              "    <tr>\n",
              "      <th>661</th>\n",
              "      <td>Zumper</td>\n",
              "      <td>zumper.com</td>\n",
              "      <td>$31.5M</td>\n",
              "      <td>Disrupt SF 2012</td>\n",
              "      <td>Finalist</td>\n",
              "      <td>Operating</td>\n",
              "    </tr>\n",
              "  </tbody>\n",
              "</table>\n",
              "<p>662 rows × 6 columns</p>\n",
              "</div>"
            ],
            "text/plain": [
              "             Startup             Product  ...           Result OperatingState\n",
              "0             2600Hz          2600hz.com  ...       Contestant      Operating\n",
              "1               3DLT            3dlt.com  ...       Contestant         Closed\n",
              "2        3DPrinterOS     3dprinteros.com  ...       Contestant      Operating\n",
              "3         3Dprintler      3dprintler.com  ...  Audience choice      Operating\n",
              "4    42 Technologies  42technologies.com  ...       Contestant      Operating\n",
              "..               ...                 ...  ...              ...            ...\n",
              "657           Zivity          zivity.com  ...       Contestant      Operating\n",
              "658           Zmorph        zmorph3d.com  ...  Audience choice      Operating\n",
              "659           Zocdoc          zocdoc.com  ...       Contestant      Operating\n",
              "660             Zula         zulaapp.com  ...  Audience choice      Operating\n",
              "661           Zumper          zumper.com  ...         Finalist      Operating\n",
              "\n",
              "[662 rows x 6 columns]"
            ]
          },
          "metadata": {
            "tags": []
          },
          "execution_count": 132
        }
      ]
    },
    {
      "cell_type": "code",
      "metadata": {
        "colab": {
          "base_uri": "https://localhost:8080/",
          "height": 204
        },
        "id": "kZRfWsOP19bT",
        "outputId": "38955acb-3d0c-47ab-c112-b1b0d3879b68"
      },
      "source": [
        "df.head()"
      ],
      "execution_count": null,
      "outputs": [
        {
          "output_type": "execute_result",
          "data": {
            "text/html": [
              "<div>\n",
              "<style scoped>\n",
              "    .dataframe tbody tr th:only-of-type {\n",
              "        vertical-align: middle;\n",
              "    }\n",
              "\n",
              "    .dataframe tbody tr th {\n",
              "        vertical-align: top;\n",
              "    }\n",
              "\n",
              "    .dataframe thead th {\n",
              "        text-align: right;\n",
              "    }\n",
              "</style>\n",
              "<table border=\"1\" class=\"dataframe\">\n",
              "  <thead>\n",
              "    <tr style=\"text-align: right;\">\n",
              "      <th></th>\n",
              "      <th>Startup</th>\n",
              "      <th>Product</th>\n",
              "      <th>Funding</th>\n",
              "      <th>Event</th>\n",
              "      <th>Result</th>\n",
              "      <th>OperatingState</th>\n",
              "    </tr>\n",
              "  </thead>\n",
              "  <tbody>\n",
              "    <tr>\n",
              "      <th>0</th>\n",
              "      <td>2600Hz</td>\n",
              "      <td>2600hz.com</td>\n",
              "      <td>NaN</td>\n",
              "      <td>Disrupt SF 2013</td>\n",
              "      <td>Contestant</td>\n",
              "      <td>Operating</td>\n",
              "    </tr>\n",
              "    <tr>\n",
              "      <th>1</th>\n",
              "      <td>3DLT</td>\n",
              "      <td>3dlt.com</td>\n",
              "      <td>$630K</td>\n",
              "      <td>Disrupt NYC 2013</td>\n",
              "      <td>Contestant</td>\n",
              "      <td>Closed</td>\n",
              "    </tr>\n",
              "    <tr>\n",
              "      <th>2</th>\n",
              "      <td>3DPrinterOS</td>\n",
              "      <td>3dprinteros.com</td>\n",
              "      <td>NaN</td>\n",
              "      <td>Disrupt SF 2016</td>\n",
              "      <td>Contestant</td>\n",
              "      <td>Operating</td>\n",
              "    </tr>\n",
              "    <tr>\n",
              "      <th>3</th>\n",
              "      <td>3Dprintler</td>\n",
              "      <td>3dprintler.com</td>\n",
              "      <td>$1M</td>\n",
              "      <td>Disrupt NY 2016</td>\n",
              "      <td>Audience choice</td>\n",
              "      <td>Operating</td>\n",
              "    </tr>\n",
              "    <tr>\n",
              "      <th>4</th>\n",
              "      <td>42 Technologies</td>\n",
              "      <td>42technologies.com</td>\n",
              "      <td>NaN</td>\n",
              "      <td>Disrupt NYC 2013</td>\n",
              "      <td>Contestant</td>\n",
              "      <td>Operating</td>\n",
              "    </tr>\n",
              "  </tbody>\n",
              "</table>\n",
              "</div>"
            ],
            "text/plain": [
              "           Startup             Product  ...           Result OperatingState\n",
              "0           2600Hz          2600hz.com  ...       Contestant      Operating\n",
              "1             3DLT            3dlt.com  ...       Contestant         Closed\n",
              "2      3DPrinterOS     3dprinteros.com  ...       Contestant      Operating\n",
              "3       3Dprintler      3dprintler.com  ...  Audience choice      Operating\n",
              "4  42 Technologies  42technologies.com  ...       Contestant      Operating\n",
              "\n",
              "[5 rows x 6 columns]"
            ]
          },
          "metadata": {
            "tags": []
          },
          "execution_count": 133
        }
      ]
    },
    {
      "cell_type": "markdown",
      "metadata": {
        "id": "-b86fRbr217F"
      },
      "source": [
        "**Check the datatypes of each attribute.**"
      ]
    },
    {
      "cell_type": "code",
      "metadata": {
        "colab": {
          "base_uri": "https://localhost:8080/"
        },
        "id": "I6WNdpWWzFz-",
        "outputId": "d67818b7-d6d8-4b52-b8f6-845b20a1ced7"
      },
      "source": [
        "df.dtypes"
      ],
      "execution_count": null,
      "outputs": [
        {
          "output_type": "execute_result",
          "data": {
            "text/plain": [
              "Startup           object\n",
              "Product           object\n",
              "Funding           object\n",
              "Event             object\n",
              "Result            object\n",
              "OperatingState    object\n",
              "dtype: object"
            ]
          },
          "metadata": {
            "tags": []
          },
          "execution_count": 134
        }
      ]
    },
    {
      "cell_type": "markdown",
      "metadata": {
        "id": "qufQNls9237t"
      },
      "source": [
        "**Check for null values in the attributes.**"
      ]
    },
    {
      "cell_type": "code",
      "metadata": {
        "colab": {
          "base_uri": "https://localhost:8080/"
        },
        "id": "ec8X08yZzrRu",
        "outputId": "b6ff9be2-b850-41f0-bf12-63767a80e23c"
      },
      "source": [
        "df.isna().sum()"
      ],
      "execution_count": null,
      "outputs": [
        {
          "output_type": "execute_result",
          "data": {
            "text/plain": [
              "Startup             0\n",
              "Product             6\n",
              "Funding           214\n",
              "Event               0\n",
              "Result              0\n",
              "OperatingState      0\n",
              "dtype: int64"
            ]
          },
          "metadata": {
            "tags": []
          },
          "execution_count": 135
        }
      ]
    },
    {
      "cell_type": "markdown",
      "metadata": {
        "id": "SIoioi5E2-Vr"
      },
      "source": [
        "**Drop the null values.**"
      ]
    },
    {
      "cell_type": "code",
      "metadata": {
        "colab": {
          "base_uri": "https://localhost:8080/",
          "height": 419
        },
        "id": "-VBdvAbB2LdU",
        "outputId": "b5c669d1-da9a-4b22-af0c-09c553683370"
      },
      "source": [
        "df1 = df.dropna().copy(deep=True)   # drop the rows\n",
        "df1"
      ],
      "execution_count": null,
      "outputs": [
        {
          "output_type": "execute_result",
          "data": {
            "text/html": [
              "<div>\n",
              "<style scoped>\n",
              "    .dataframe tbody tr th:only-of-type {\n",
              "        vertical-align: middle;\n",
              "    }\n",
              "\n",
              "    .dataframe tbody tr th {\n",
              "        vertical-align: top;\n",
              "    }\n",
              "\n",
              "    .dataframe thead th {\n",
              "        text-align: right;\n",
              "    }\n",
              "</style>\n",
              "<table border=\"1\" class=\"dataframe\">\n",
              "  <thead>\n",
              "    <tr style=\"text-align: right;\">\n",
              "      <th></th>\n",
              "      <th>Startup</th>\n",
              "      <th>Product</th>\n",
              "      <th>Funding</th>\n",
              "      <th>Event</th>\n",
              "      <th>Result</th>\n",
              "      <th>OperatingState</th>\n",
              "    </tr>\n",
              "  </thead>\n",
              "  <tbody>\n",
              "    <tr>\n",
              "      <th>1</th>\n",
              "      <td>3DLT</td>\n",
              "      <td>3dlt.com</td>\n",
              "      <td>$630K</td>\n",
              "      <td>Disrupt NYC 2013</td>\n",
              "      <td>Contestant</td>\n",
              "      <td>Closed</td>\n",
              "    </tr>\n",
              "    <tr>\n",
              "      <th>3</th>\n",
              "      <td>3Dprintler</td>\n",
              "      <td>3dprintler.com</td>\n",
              "      <td>$1M</td>\n",
              "      <td>Disrupt NY 2016</td>\n",
              "      <td>Audience choice</td>\n",
              "      <td>Operating</td>\n",
              "    </tr>\n",
              "    <tr>\n",
              "      <th>5</th>\n",
              "      <td>5to1</td>\n",
              "      <td>5to1.com</td>\n",
              "      <td>$19.3M</td>\n",
              "      <td>TC50 2009</td>\n",
              "      <td>Contestant</td>\n",
              "      <td>Acquired</td>\n",
              "    </tr>\n",
              "    <tr>\n",
              "      <th>6</th>\n",
              "      <td>8 Securities</td>\n",
              "      <td>8securities.com</td>\n",
              "      <td>$29M</td>\n",
              "      <td>Disrupt Beijing 2011</td>\n",
              "      <td>Finalist</td>\n",
              "      <td>Operating</td>\n",
              "    </tr>\n",
              "    <tr>\n",
              "      <th>10</th>\n",
              "      <td>AdhereTech</td>\n",
              "      <td>adheretech.com</td>\n",
              "      <td>$1.8M</td>\n",
              "      <td>Hardware Battlefield 2014</td>\n",
              "      <td>Contestant</td>\n",
              "      <td>Operating</td>\n",
              "    </tr>\n",
              "    <tr>\n",
              "      <th>...</th>\n",
              "      <td>...</td>\n",
              "      <td>...</td>\n",
              "      <td>...</td>\n",
              "      <td>...</td>\n",
              "      <td>...</td>\n",
              "      <td>...</td>\n",
              "    </tr>\n",
              "    <tr>\n",
              "      <th>657</th>\n",
              "      <td>Zivity</td>\n",
              "      <td>zivity.com</td>\n",
              "      <td>$8M</td>\n",
              "      <td>TC40 2007</td>\n",
              "      <td>Contestant</td>\n",
              "      <td>Operating</td>\n",
              "    </tr>\n",
              "    <tr>\n",
              "      <th>658</th>\n",
              "      <td>Zmorph</td>\n",
              "      <td>zmorph3d.com</td>\n",
              "      <td>$1M</td>\n",
              "      <td>-</td>\n",
              "      <td>Audience choice</td>\n",
              "      <td>Operating</td>\n",
              "    </tr>\n",
              "    <tr>\n",
              "      <th>659</th>\n",
              "      <td>Zocdoc</td>\n",
              "      <td>zocdoc.com</td>\n",
              "      <td>$223M</td>\n",
              "      <td>TC40 2007</td>\n",
              "      <td>Contestant</td>\n",
              "      <td>Operating</td>\n",
              "    </tr>\n",
              "    <tr>\n",
              "      <th>660</th>\n",
              "      <td>Zula</td>\n",
              "      <td>zulaapp.com</td>\n",
              "      <td>$3.4M</td>\n",
              "      <td>Disrupt SF 2013</td>\n",
              "      <td>Audience choice</td>\n",
              "      <td>Operating</td>\n",
              "    </tr>\n",
              "    <tr>\n",
              "      <th>661</th>\n",
              "      <td>Zumper</td>\n",
              "      <td>zumper.com</td>\n",
              "      <td>$31.5M</td>\n",
              "      <td>Disrupt SF 2012</td>\n",
              "      <td>Finalist</td>\n",
              "      <td>Operating</td>\n",
              "    </tr>\n",
              "  </tbody>\n",
              "</table>\n",
              "<p>446 rows × 6 columns</p>\n",
              "</div>"
            ],
            "text/plain": [
              "          Startup          Product  ...           Result OperatingState\n",
              "1            3DLT         3dlt.com  ...       Contestant         Closed\n",
              "3      3Dprintler   3dprintler.com  ...  Audience choice      Operating\n",
              "5            5to1         5to1.com  ...       Contestant       Acquired\n",
              "6    8 Securities  8securities.com  ...         Finalist      Operating\n",
              "10     AdhereTech   adheretech.com  ...       Contestant      Operating\n",
              "..            ...              ...  ...              ...            ...\n",
              "657        Zivity       zivity.com  ...       Contestant      Operating\n",
              "658        Zmorph     zmorph3d.com  ...  Audience choice      Operating\n",
              "659        Zocdoc       zocdoc.com  ...       Contestant      Operating\n",
              "660          Zula      zulaapp.com  ...  Audience choice      Operating\n",
              "661        Zumper       zumper.com  ...         Finalist      Operating\n",
              "\n",
              "[446 rows x 6 columns]"
            ]
          },
          "metadata": {
            "tags": []
          },
          "execution_count": 136
        }
      ]
    },
    {
      "cell_type": "markdown",
      "metadata": {
        "id": "fZZjewF_4J4-"
      },
      "source": [
        "**Convert the ‘Funding’ features to a numerical value.**"
      ]
    },
    {
      "cell_type": "code",
      "metadata": {
        "id": "LSEQwunv3I9V"
      },
      "source": [
        "df1.loc[:,'Funding_in_million'] = df1['Funding'].apply(lambda x: float(x[1:-1])/1000 if x[-1] == 'K' else (float(x[1:-1])*1000 if x[-1] == 'B' else float(x[1:-1])))"
      ],
      "execution_count": null,
      "outputs": []
    },
    {
      "cell_type": "markdown",
      "metadata": {
        "id": "F7oPaFD07mQW"
      },
      "source": [
        "**Code Explanation:**\n",
        "Within the lambda function, we passed two if else blocks. If the last element in the value is 'K', then divide the number by 1000 else, if it is 'B', multiply by 1000 else, return as it is. We passed this lambda function to the apply method which we used on the 'Funds Raised' column and assigned the result to a new column ('funding_in_million') in the dataframe"
      ]
    },
    {
      "cell_type": "code",
      "metadata": {
        "colab": {
          "base_uri": "https://localhost:8080/",
          "height": 142
        },
        "id": "nYSHZwSY4Z2T",
        "outputId": "25ae0d86-dcf5-4154-e615-5e6569df5b09"
      },
      "source": [
        "df1.sample(3)"
      ],
      "execution_count": null,
      "outputs": [
        {
          "output_type": "execute_result",
          "data": {
            "text/html": [
              "<div>\n",
              "<style scoped>\n",
              "    .dataframe tbody tr th:only-of-type {\n",
              "        vertical-align: middle;\n",
              "    }\n",
              "\n",
              "    .dataframe tbody tr th {\n",
              "        vertical-align: top;\n",
              "    }\n",
              "\n",
              "    .dataframe thead th {\n",
              "        text-align: right;\n",
              "    }\n",
              "</style>\n",
              "<table border=\"1\" class=\"dataframe\">\n",
              "  <thead>\n",
              "    <tr style=\"text-align: right;\">\n",
              "      <th></th>\n",
              "      <th>Startup</th>\n",
              "      <th>Product</th>\n",
              "      <th>Funding</th>\n",
              "      <th>Event</th>\n",
              "      <th>Result</th>\n",
              "      <th>OperatingState</th>\n",
              "      <th>Funding_in_million</th>\n",
              "    </tr>\n",
              "  </thead>\n",
              "  <tbody>\n",
              "    <tr>\n",
              "      <th>623</th>\n",
              "      <td>Voltera</td>\n",
              "      <td>voltera.io</td>\n",
              "      <td>$55K</td>\n",
              "      <td>Hardware Battlefield 2015</td>\n",
              "      <td>Winner</td>\n",
              "      <td>Operating</td>\n",
              "      <td>0.055</td>\n",
              "    </tr>\n",
              "    <tr>\n",
              "      <th>386</th>\n",
              "      <td>Open Garden</td>\n",
              "      <td>opengarden.com</td>\n",
              "      <td>$12.8M</td>\n",
              "      <td>Disrupt NYC 2012</td>\n",
              "      <td>Finalist</td>\n",
              "      <td>Operating</td>\n",
              "      <td>12.800</td>\n",
              "    </tr>\n",
              "    <tr>\n",
              "      <th>192</th>\n",
              "      <td>Floored</td>\n",
              "      <td>floored.com</td>\n",
              "      <td>$6.4M</td>\n",
              "      <td>Disrupt NYC 2013</td>\n",
              "      <td>Finalist</td>\n",
              "      <td>Acquired</td>\n",
              "      <td>6.400</td>\n",
              "    </tr>\n",
              "  </tbody>\n",
              "</table>\n",
              "</div>"
            ],
            "text/plain": [
              "         Startup         Product  ... OperatingState Funding_in_million\n",
              "623      Voltera      voltera.io  ...      Operating              0.055\n",
              "386  Open Garden  opengarden.com  ...      Operating             12.800\n",
              "192      Floored     floored.com  ...       Acquired              6.400\n",
              "\n",
              "[3 rows x 7 columns]"
            ]
          },
          "metadata": {
            "tags": []
          },
          "execution_count": 138
        }
      ]
    },
    {
      "cell_type": "markdown",
      "metadata": {
        "id": "bO7GoqMQ71NJ"
      },
      "source": [
        "**Plot box plot for funds in million.**"
      ]
    },
    {
      "cell_type": "code",
      "metadata": {
        "colab": {
          "base_uri": "https://localhost:8080/",
          "height": 281
        },
        "id": "5rtzeM3J5WGP",
        "outputId": "c2ad6943-1add-493e-b31b-a3dc1ce431af"
      },
      "source": [
        "%matplotlib inline\n",
        "\n",
        "plot = plt.boxplot(df1.Funding_in_million)\n",
        "plt.title('Boxplot of the fundings')\n",
        "plt.ylabel(\"Funding (in Millions)\")\n",
        "\n",
        "plt.show()"
      ],
      "execution_count": null,
      "outputs": [
        {
          "output_type": "display_data",
          "data": {
            "image/png": "[encoded data removed]",
            "text/plain": [
              "<Figure size 432x288 with 1 Axes>"
            ]
          },
          "metadata": {
            "tags": [],
            "needs_background": "light"
          }
        }
      ]
    },
    {
      "cell_type": "markdown",
      "metadata": {
        "id": "lfQWX13j_TUJ"
      },
      "source": [
        "**Get the lower fence from the box plot.**"
      ]
    },
    {
      "cell_type": "code",
      "metadata": {
        "colab": {
          "base_uri": "https://localhost:8080/"
        },
        "id": "sWdskJAU8bji",
        "outputId": "5beec544-26f7-4ab8-f085-cb64691b4664"
      },
      "source": [
        "median = np.median(df1.Funding_in_million)\n",
        "Q3 = np.percentile(df1.Funding_in_million, 75)\n",
        "Q1 = np.percentile(df1.Funding_in_million, 25)\n",
        "\n",
        "iqr = Q3 - Q1\n",
        "Lower_fence = Q3 - 1.5*iqr\n",
        "Lower_fence"
      ],
      "execution_count": null,
      "outputs": [
        {
          "output_type": "execute_result",
          "data": {
            "text/plain": [
              "-3.619624999999999"
            ]
          },
          "metadata": {
            "tags": []
          },
          "execution_count": 140
        }
      ]
    },
    {
      "cell_type": "markdown",
      "metadata": {
        "id": "RMUc_wwhJMYN"
      },
      "source": [
        "**Check number of outliers greater than upper fence.**"
      ]
    },
    {
      "cell_type": "code",
      "metadata": {
        "colab": {
          "base_uri": "https://localhost:8080/"
        },
        "id": "jSHPKxKIBM8B",
        "outputId": "5ec367af-d4e8-49c5-f284-6335c112f1a1"
      },
      "source": [
        "upper_fence = plot['caps'][1].get_data()[1][1] # we can use the  values from thebox plot itself to get the upper fence\n",
        "upper_fence"
      ],
      "execution_count": null,
      "outputs": [
        {
          "output_type": "execute_result",
          "data": {
            "text/plain": [
              "22.0"
            ]
          },
          "metadata": {
            "tags": []
          },
          "execution_count": 141
        }
      ]
    },
    {
      "cell_type": "code",
      "metadata": {
        "id": "PXXS7SvtFYTh",
        "colab": {
          "base_uri": "https://localhost:8080/",
          "height": 1000
        },
        "outputId": "324bbb09-43d5-44fe-8c70-10c790f3f752"
      },
      "source": [
        "print(f'Number of outliers = {len(df1[df1.Funding_in_million > upper_fence])}')\n",
        "\n",
        "df1[df1.Funding_in_million > upper_fence]"
      ],
      "execution_count": null,
      "outputs": [
        {
          "output_type": "stream",
          "text": [
            "Number of outliers = 60\n"
          ],
          "name": "stdout"
        },
        {
          "output_type": "execute_result",
          "data": {
            "text/html": [
              "<div>\n",
              "<style scoped>\n",
              "    .dataframe tbody tr th:only-of-type {\n",
              "        vertical-align: middle;\n",
              "    }\n",
              "\n",
              "    .dataframe tbody tr th {\n",
              "        vertical-align: top;\n",
              "    }\n",
              "\n",
              "    .dataframe thead th {\n",
              "        text-align: right;\n",
              "    }\n",
              "</style>\n",
              "<table border=\"1\" class=\"dataframe\">\n",
              "  <thead>\n",
              "    <tr style=\"text-align: right;\">\n",
              "      <th></th>\n",
              "      <th>Startup</th>\n",
              "      <th>Product</th>\n",
              "      <th>Funding</th>\n",
              "      <th>Event</th>\n",
              "      <th>Result</th>\n",
              "      <th>OperatingState</th>\n",
              "      <th>Funding_in_million</th>\n",
              "    </tr>\n",
              "  </thead>\n",
              "  <tbody>\n",
              "    <tr>\n",
              "      <th>6</th>\n",
              "      <td>8 Securities</td>\n",
              "      <td>8securities.com</td>\n",
              "      <td>$29M</td>\n",
              "      <td>Disrupt Beijing 2011</td>\n",
              "      <td>Finalist</td>\n",
              "      <td>Operating</td>\n",
              "      <td>29.0</td>\n",
              "    </tr>\n",
              "    <tr>\n",
              "      <th>31</th>\n",
              "      <td>Anyclip</td>\n",
              "      <td>anyclip.com</td>\n",
              "      <td>$24M</td>\n",
              "      <td>TC50 2009</td>\n",
              "      <td>Finalist</td>\n",
              "      <td>Operating</td>\n",
              "      <td>24.0</td>\n",
              "    </tr>\n",
              "    <tr>\n",
              "      <th>40</th>\n",
              "      <td>Artsy</td>\n",
              "      <td>artsy.net</td>\n",
              "      <td>$50.9M</td>\n",
              "      <td>Disrupt NYC 2010</td>\n",
              "      <td>Contestant</td>\n",
              "      <td>Operating</td>\n",
              "      <td>50.9</td>\n",
              "    </tr>\n",
              "    <tr>\n",
              "      <th>49</th>\n",
              "      <td>Badgeville</td>\n",
              "      <td>badgeville.com</td>\n",
              "      <td>$40M</td>\n",
              "      <td>Disrupt SF 2010</td>\n",
              "      <td>Finalist</td>\n",
              "      <td>Acquired</td>\n",
              "      <td>40.0</td>\n",
              "    </tr>\n",
              "    <tr>\n",
              "      <th>56</th>\n",
              "      <td>Betterment</td>\n",
              "      <td>betterment.com</td>\n",
              "      <td>$205M</td>\n",
              "      <td>Disrupt NYC 2010</td>\n",
              "      <td>Finalist</td>\n",
              "      <td>Operating</td>\n",
              "      <td>205.0</td>\n",
              "    </tr>\n",
              "    <tr>\n",
              "      <th>108</th>\n",
              "      <td>Clickable</td>\n",
              "      <td>clickable.com</td>\n",
              "      <td>$32.5M</td>\n",
              "      <td>TC40 2007</td>\n",
              "      <td>Finalist</td>\n",
              "      <td>Acquired</td>\n",
              "      <td>32.5</td>\n",
              "    </tr>\n",
              "    <tr>\n",
              "      <th>113</th>\n",
              "      <td>Cloudflare</td>\n",
              "      <td>cloudflare.com</td>\n",
              "      <td>$182.1M</td>\n",
              "      <td>Disrupt SF 2010</td>\n",
              "      <td>Runner up</td>\n",
              "      <td>Operating</td>\n",
              "      <td>182.1</td>\n",
              "    </tr>\n",
              "    <tr>\n",
              "      <th>128</th>\n",
              "      <td>Credit Sesame</td>\n",
              "      <td>creditsesame.com</td>\n",
              "      <td>$35.4M</td>\n",
              "      <td>Disrupt SF 2010</td>\n",
              "      <td>Contestant</td>\n",
              "      <td>Operating</td>\n",
              "      <td>35.4</td>\n",
              "    </tr>\n",
              "    <tr>\n",
              "      <th>130</th>\n",
              "      <td>CrowdFlower Inc.</td>\n",
              "      <td>crowdflower.com</td>\n",
              "      <td>$38M</td>\n",
              "      <td>TC50 2009</td>\n",
              "      <td>Contestant</td>\n",
              "      <td>Operating</td>\n",
              "      <td>38.0</td>\n",
              "    </tr>\n",
              "    <tr>\n",
              "      <th>132</th>\n",
              "      <td>Cubic Telecom</td>\n",
              "      <td>cubictelecom.com</td>\n",
              "      <td>$37.1M</td>\n",
              "      <td>TC40 2007</td>\n",
              "      <td>Contestant</td>\n",
              "      <td>Operating</td>\n",
              "      <td>37.1</td>\n",
              "    </tr>\n",
              "    <tr>\n",
              "      <th>138</th>\n",
              "      <td>DataSift</td>\n",
              "      <td>datasift.com</td>\n",
              "      <td>$72M</td>\n",
              "      <td>Disrupt SF 2010</td>\n",
              "      <td>Finalist</td>\n",
              "      <td>Operating</td>\n",
              "      <td>72.0</td>\n",
              "    </tr>\n",
              "    <tr>\n",
              "      <th>139</th>\n",
              "      <td>DataXu</td>\n",
              "      <td>dataxu.com</td>\n",
              "      <td>$64M</td>\n",
              "      <td>TC50 2009</td>\n",
              "      <td>Contestant</td>\n",
              "      <td>Operating</td>\n",
              "      <td>64.0</td>\n",
              "    </tr>\n",
              "    <tr>\n",
              "      <th>154</th>\n",
              "      <td>Dropbox</td>\n",
              "      <td>dropbox.com</td>\n",
              "      <td>$1.7B</td>\n",
              "      <td>TC50 2008</td>\n",
              "      <td>Contestant</td>\n",
              "      <td>Operating</td>\n",
              "      <td>1700.0</td>\n",
              "    </tr>\n",
              "    <tr>\n",
              "      <th>166</th>\n",
              "      <td>Enigma</td>\n",
              "      <td>enigma.io</td>\n",
              "      <td>$34.6M</td>\n",
              "      <td>Disrupt NYC 2013</td>\n",
              "      <td>Winner</td>\n",
              "      <td>Operating</td>\n",
              "      <td>34.6</td>\n",
              "    </tr>\n",
              "    <tr>\n",
              "      <th>172</th>\n",
              "      <td>EverythingMe</td>\n",
              "      <td>everything.me</td>\n",
              "      <td>$35.5M</td>\n",
              "      <td>Disrupt NYC 2011</td>\n",
              "      <td>Contestant</td>\n",
              "      <td>Closed</td>\n",
              "      <td>35.5</td>\n",
              "    </tr>\n",
              "    <tr>\n",
              "      <th>179</th>\n",
              "      <td>Famo.us</td>\n",
              "      <td>famo.us</td>\n",
              "      <td>$30.1M</td>\n",
              "      <td>Disrupt SF 2012</td>\n",
              "      <td>Contestant</td>\n",
              "      <td>Operating</td>\n",
              "      <td>30.1</td>\n",
              "    </tr>\n",
              "    <tr>\n",
              "      <th>180</th>\n",
              "      <td>Farmigo</td>\n",
              "      <td>farmigo.com</td>\n",
              "      <td>$26M</td>\n",
              "      <td>Disrupt SF 2011</td>\n",
              "      <td>Finalist</td>\n",
              "      <td>Operating</td>\n",
              "      <td>26.0</td>\n",
              "    </tr>\n",
              "    <tr>\n",
              "      <th>188</th>\n",
              "      <td>Fitbit</td>\n",
              "      <td>fitbit.com</td>\n",
              "      <td>$66M</td>\n",
              "      <td>TC50 2008</td>\n",
              "      <td>Finalist</td>\n",
              "      <td>Ipo</td>\n",
              "      <td>66.0</td>\n",
              "    </tr>\n",
              "    <tr>\n",
              "      <th>191</th>\n",
              "      <td>Flock</td>\n",
              "      <td>flock.com</td>\n",
              "      <td>$28.3M</td>\n",
              "      <td>TC40 2007</td>\n",
              "      <td>Contestant</td>\n",
              "      <td>Acquired</td>\n",
              "      <td>28.3</td>\n",
              "    </tr>\n",
              "    <tr>\n",
              "      <th>209</th>\n",
              "      <td>Getaround</td>\n",
              "      <td>getaround.com</td>\n",
              "      <td>$103M</td>\n",
              "      <td>Disrupt NYC 2011</td>\n",
              "      <td>Winner</td>\n",
              "      <td>Operating</td>\n",
              "      <td>103.0</td>\n",
              "    </tr>\n",
              "    <tr>\n",
              "      <th>213</th>\n",
              "      <td>Gild</td>\n",
              "      <td>gild.com</td>\n",
              "      <td>$25.9M</td>\n",
              "      <td>Disrupt SF 2010</td>\n",
              "      <td>Contestant</td>\n",
              "      <td>Acquired</td>\n",
              "      <td>25.9</td>\n",
              "    </tr>\n",
              "    <tr>\n",
              "      <th>215</th>\n",
              "      <td>Glide</td>\n",
              "      <td>glide.me</td>\n",
              "      <td>$36.5M</td>\n",
              "      <td>Disrupt NYC 2013</td>\n",
              "      <td>Audience choice</td>\n",
              "      <td>Operating</td>\n",
              "      <td>36.5</td>\n",
              "    </tr>\n",
              "    <tr>\n",
              "      <th>225</th>\n",
              "      <td>Grockit</td>\n",
              "      <td>grockit.com</td>\n",
              "      <td>$44.7M</td>\n",
              "      <td>TC50 2008</td>\n",
              "      <td>Finalist</td>\n",
              "      <td>Acquired</td>\n",
              "      <td>44.7</td>\n",
              "    </tr>\n",
              "    <tr>\n",
              "      <th>231</th>\n",
              "      <td>HackerRank</td>\n",
              "      <td>hackerrank.com</td>\n",
              "      <td>$24.2M</td>\n",
              "      <td>Disrupt SF 2012</td>\n",
              "      <td>Contestant</td>\n",
              "      <td>Operating</td>\n",
              "      <td>24.2</td>\n",
              "    </tr>\n",
              "    <tr>\n",
              "      <th>271</th>\n",
              "      <td>Ionic Security</td>\n",
              "      <td>ionicsecurity.com</td>\n",
              "      <td>$122.4M</td>\n",
              "      <td>Disrupt SF 2012</td>\n",
              "      <td>Contestant</td>\n",
              "      <td>Operating</td>\n",
              "      <td>122.4</td>\n",
              "    </tr>\n",
              "    <tr>\n",
              "      <th>276</th>\n",
              "      <td>IZEA</td>\n",
              "      <td>izea.com</td>\n",
              "      <td>$34.9M</td>\n",
              "      <td>Disrupt NYC 2010</td>\n",
              "      <td>Contestant</td>\n",
              "      <td>Ipo</td>\n",
              "      <td>34.9</td>\n",
              "    </tr>\n",
              "    <tr>\n",
              "      <th>279</th>\n",
              "      <td>Jiff</td>\n",
              "      <td>jiff.com</td>\n",
              "      <td>$67.8M</td>\n",
              "      <td>Disrupt SF 2011</td>\n",
              "      <td>Contestant</td>\n",
              "      <td>Acquired</td>\n",
              "      <td>67.8</td>\n",
              "    </tr>\n",
              "    <tr>\n",
              "      <th>282</th>\n",
              "      <td>Kaltura</td>\n",
              "      <td>kaltura.com</td>\n",
              "      <td>$166.1M</td>\n",
              "      <td>TC40 2007</td>\n",
              "      <td>Audience choice</td>\n",
              "      <td>Operating</td>\n",
              "      <td>166.1</td>\n",
              "    </tr>\n",
              "    <tr>\n",
              "      <th>302</th>\n",
              "      <td>Layer</td>\n",
              "      <td>layer.com</td>\n",
              "      <td>$42.1M</td>\n",
              "      <td>Disrupt SF 2013</td>\n",
              "      <td>Winner</td>\n",
              "      <td>Operating</td>\n",
              "      <td>42.1</td>\n",
              "    </tr>\n",
              "    <tr>\n",
              "      <th>305</th>\n",
              "      <td>LearnVest</td>\n",
              "      <td>learnvest.com</td>\n",
              "      <td>$69M</td>\n",
              "      <td>TC50 2009</td>\n",
              "      <td>Contestant</td>\n",
              "      <td>Acquired</td>\n",
              "      <td>69.0</td>\n",
              "    </tr>\n",
              "    <tr>\n",
              "      <th>313</th>\n",
              "      <td>LiveIntent</td>\n",
              "      <td>liveintent.com</td>\n",
              "      <td>$65.1M</td>\n",
              "      <td>Disrupt NYC 2010</td>\n",
              "      <td>Audience choice</td>\n",
              "      <td>Operating</td>\n",
              "      <td>65.1</td>\n",
              "    </tr>\n",
              "    <tr>\n",
              "      <th>325</th>\n",
              "      <td>Lystable</td>\n",
              "      <td>lystable.com</td>\n",
              "      <td>$25.1M</td>\n",
              "      <td>Disrupt London 2015</td>\n",
              "      <td>Finalist</td>\n",
              "      <td>Operating</td>\n",
              "      <td>25.1</td>\n",
              "    </tr>\n",
              "    <tr>\n",
              "      <th>346</th>\n",
              "      <td>Mint</td>\n",
              "      <td>mint.com</td>\n",
              "      <td>$31.8M</td>\n",
              "      <td>TC40 2007</td>\n",
              "      <td>Winner</td>\n",
              "      <td>Acquired</td>\n",
              "      <td>31.8</td>\n",
              "    </tr>\n",
              "    <tr>\n",
              "      <th>389</th>\n",
              "      <td>OrderWithMe</td>\n",
              "      <td>orderwithme.com</td>\n",
              "      <td>$37M</td>\n",
              "      <td>Disrupt Beijing 2011</td>\n",
              "      <td>Winner</td>\n",
              "      <td>Operating</td>\n",
              "      <td>37.0</td>\n",
              "    </tr>\n",
              "    <tr>\n",
              "      <th>393</th>\n",
              "      <td>Osmo</td>\n",
              "      <td>playosmo.com</td>\n",
              "      <td>$38.5M</td>\n",
              "      <td>Disrupt SF 2013</td>\n",
              "      <td>Contestant</td>\n",
              "      <td>Operating</td>\n",
              "      <td>38.5</td>\n",
              "    </tr>\n",
              "    <tr>\n",
              "      <th>394</th>\n",
              "      <td>Ossia</td>\n",
              "      <td>ossia.com</td>\n",
              "      <td>$25.5M</td>\n",
              "      <td>Disrupt SF 2013</td>\n",
              "      <td>Runner up</td>\n",
              "      <td>Operating</td>\n",
              "      <td>25.5</td>\n",
              "    </tr>\n",
              "    <tr>\n",
              "      <th>398</th>\n",
              "      <td>Owlet Baby Care</td>\n",
              "      <td>owletcare.com</td>\n",
              "      <td>$24M</td>\n",
              "      <td>Hardware Battlefield 2014</td>\n",
              "      <td>Runner up</td>\n",
              "      <td>Operating</td>\n",
              "      <td>24.0</td>\n",
              "    </tr>\n",
              "    <tr>\n",
              "      <th>427</th>\n",
              "      <td>Postmates</td>\n",
              "      <td>postmates.com</td>\n",
              "      <td>$278M</td>\n",
              "      <td>Disrupt SF 2011</td>\n",
              "      <td>Contestant</td>\n",
              "      <td>Operating</td>\n",
              "      <td>278.0</td>\n",
              "    </tr>\n",
              "    <tr>\n",
              "      <th>432</th>\n",
              "      <td>Prism Skylabs</td>\n",
              "      <td>prism.com</td>\n",
              "      <td>$24M</td>\n",
              "      <td>Disrupt SF 2011</td>\n",
              "      <td>Runner up</td>\n",
              "      <td>Operating</td>\n",
              "      <td>24.0</td>\n",
              "    </tr>\n",
              "    <tr>\n",
              "      <th>435</th>\n",
              "      <td>PubMatic</td>\n",
              "      <td>pubmatic.com</td>\n",
              "      <td>$63M</td>\n",
              "      <td>TC40 2007</td>\n",
              "      <td>Contestant</td>\n",
              "      <td>Operating</td>\n",
              "      <td>63.0</td>\n",
              "    </tr>\n",
              "    <tr>\n",
              "      <th>460</th>\n",
              "      <td>Roadie</td>\n",
              "      <td>roadie.com</td>\n",
              "      <td>$25M</td>\n",
              "      <td>Disrupt NYC 2014</td>\n",
              "      <td>Audience choice</td>\n",
              "      <td>Operating</td>\n",
              "      <td>25.0</td>\n",
              "    </tr>\n",
              "    <tr>\n",
              "      <th>471</th>\n",
              "      <td>SeatGeek</td>\n",
              "      <td>seatgeek.com</td>\n",
              "      <td>$160M</td>\n",
              "      <td>TC50 2009</td>\n",
              "      <td>Contestant</td>\n",
              "      <td>Operating</td>\n",
              "      <td>160.0</td>\n",
              "    </tr>\n",
              "    <tr>\n",
              "      <th>546</th>\n",
              "      <td>StyleSeat</td>\n",
              "      <td>styleseat.com</td>\n",
              "      <td>$40M</td>\n",
              "      <td>Disrupt NYC 2011</td>\n",
              "      <td>Contestant</td>\n",
              "      <td>Operating</td>\n",
              "      <td>40.0</td>\n",
              "    </tr>\n",
              "    <tr>\n",
              "      <th>555</th>\n",
              "      <td>Symphony Commerce</td>\n",
              "      <td>symphonycommerce.com</td>\n",
              "      <td>$47.4M</td>\n",
              "      <td>Disrupt NYC 2011</td>\n",
              "      <td>Contestant</td>\n",
              "      <td>Operating</td>\n",
              "      <td>47.4</td>\n",
              "    </tr>\n",
              "    <tr>\n",
              "      <th>560</th>\n",
              "      <td>Talkdesk</td>\n",
              "      <td>talkdesk.com</td>\n",
              "      <td>$24.5M</td>\n",
              "      <td>Disrupt NYC 2012</td>\n",
              "      <td>Contestant</td>\n",
              "      <td>Operating</td>\n",
              "      <td>24.5</td>\n",
              "    </tr>\n",
              "    <tr>\n",
              "      <th>581</th>\n",
              "      <td>TouchPal</td>\n",
              "      <td>touchpal.com</td>\n",
              "      <td>$25M</td>\n",
              "      <td>Disrupt Beijing 2011</td>\n",
              "      <td>Finalist</td>\n",
              "      <td>Operating</td>\n",
              "      <td>25.0</td>\n",
              "    </tr>\n",
              "    <tr>\n",
              "      <th>593</th>\n",
              "      <td>TrueCar</td>\n",
              "      <td>truecar.com</td>\n",
              "      <td>$332.4M</td>\n",
              "      <td>TC50 2008</td>\n",
              "      <td>Contestant</td>\n",
              "      <td>Ipo</td>\n",
              "      <td>332.4</td>\n",
              "    </tr>\n",
              "    <tr>\n",
              "      <th>598</th>\n",
              "      <td>UberConference</td>\n",
              "      <td>uberconference.com</td>\n",
              "      <td>$35M</td>\n",
              "      <td>Disrupt NYC 2012</td>\n",
              "      <td>Winner</td>\n",
              "      <td>Operating</td>\n",
              "      <td>35.0</td>\n",
              "    </tr>\n",
              "    <tr>\n",
              "      <th>606</th>\n",
              "      <td>Upwork</td>\n",
              "      <td>upwork.com</td>\n",
              "      <td>$168.8M</td>\n",
              "      <td>TC50 2009</td>\n",
              "      <td>Audience choice</td>\n",
              "      <td>Operating</td>\n",
              "      <td>168.8</td>\n",
              "    </tr>\n",
              "    <tr>\n",
              "      <th>615</th>\n",
              "      <td>VideoSurf</td>\n",
              "      <td>videosurf.com</td>\n",
              "      <td>$28M</td>\n",
              "      <td>TC50 2008</td>\n",
              "      <td>Contestant</td>\n",
              "      <td>Acquired</td>\n",
              "      <td>28.0</td>\n",
              "    </tr>\n",
              "    <tr>\n",
              "      <th>625</th>\n",
              "      <td>Voxy</td>\n",
              "      <td>voxy.com</td>\n",
              "      <td>$30.8M</td>\n",
              "      <td>Disrupt SF 2010</td>\n",
              "      <td>Contestant</td>\n",
              "      <td>Operating</td>\n",
              "      <td>30.8</td>\n",
              "    </tr>\n",
              "    <tr>\n",
              "      <th>643</th>\n",
              "      <td>Xobni</td>\n",
              "      <td>yahoo.com</td>\n",
              "      <td>$41.8M</td>\n",
              "      <td>TC40 2007</td>\n",
              "      <td>Contestant</td>\n",
              "      <td>Acquired</td>\n",
              "      <td>41.8</td>\n",
              "    </tr>\n",
              "    <tr>\n",
              "      <th>644</th>\n",
              "      <td>Yammer</td>\n",
              "      <td>yammer.com</td>\n",
              "      <td>$142M</td>\n",
              "      <td>TC50 2008</td>\n",
              "      <td>Winner</td>\n",
              "      <td>Acquired</td>\n",
              "      <td>142.0</td>\n",
              "    </tr>\n",
              "    <tr>\n",
              "      <th>647</th>\n",
              "      <td>Yext</td>\n",
              "      <td>yext.com</td>\n",
              "      <td>$117.8M</td>\n",
              "      <td>TC50 2009</td>\n",
              "      <td>Contestant</td>\n",
              "      <td>Ipo</td>\n",
              "      <td>117.8</td>\n",
              "    </tr>\n",
              "    <tr>\n",
              "      <th>649</th>\n",
              "      <td>YouNow</td>\n",
              "      <td>younow.com</td>\n",
              "      <td>$26M</td>\n",
              "      <td>Disrupt SF 2011</td>\n",
              "      <td>Contestant</td>\n",
              "      <td>Operating</td>\n",
              "      <td>26.0</td>\n",
              "    </tr>\n",
              "    <tr>\n",
              "      <th>650</th>\n",
              "      <td>YourMechanic</td>\n",
              "      <td>yourmechanic.com</td>\n",
              "      <td>$28M</td>\n",
              "      <td>Disrupt SF 2012</td>\n",
              "      <td>Winner</td>\n",
              "      <td>Operating</td>\n",
              "      <td>28.0</td>\n",
              "    </tr>\n",
              "    <tr>\n",
              "      <th>654</th>\n",
              "      <td>ZEFR</td>\n",
              "      <td>zefr.com</td>\n",
              "      <td>$62.1M</td>\n",
              "      <td>Disrupt NYC 2010</td>\n",
              "      <td>Contestant</td>\n",
              "      <td>Operating</td>\n",
              "      <td>62.1</td>\n",
              "    </tr>\n",
              "    <tr>\n",
              "      <th>656</th>\n",
              "      <td>Zenefits</td>\n",
              "      <td>zenefits.com</td>\n",
              "      <td>$583.6M</td>\n",
              "      <td>Disrupt NYC 2013</td>\n",
              "      <td>Finalist</td>\n",
              "      <td>Operating</td>\n",
              "      <td>583.6</td>\n",
              "    </tr>\n",
              "    <tr>\n",
              "      <th>659</th>\n",
              "      <td>Zocdoc</td>\n",
              "      <td>zocdoc.com</td>\n",
              "      <td>$223M</td>\n",
              "      <td>TC40 2007</td>\n",
              "      <td>Contestant</td>\n",
              "      <td>Operating</td>\n",
              "      <td>223.0</td>\n",
              "    </tr>\n",
              "    <tr>\n",
              "      <th>661</th>\n",
              "      <td>Zumper</td>\n",
              "      <td>zumper.com</td>\n",
              "      <td>$31.5M</td>\n",
              "      <td>Disrupt SF 2012</td>\n",
              "      <td>Finalist</td>\n",
              "      <td>Operating</td>\n",
              "      <td>31.5</td>\n",
              "    </tr>\n",
              "  </tbody>\n",
              "</table>\n",
              "</div>"
            ],
            "text/plain": [
              "               Startup               Product  ... OperatingState Funding_in_million\n",
              "6         8 Securities       8securities.com  ...      Operating               29.0\n",
              "31             Anyclip           anyclip.com  ...      Operating               24.0\n",
              "40               Artsy             artsy.net  ...      Operating               50.9\n",
              "49          Badgeville        badgeville.com  ...       Acquired               40.0\n",
              "56          Betterment        betterment.com  ...      Operating              205.0\n",
              "108          Clickable         clickable.com  ...       Acquired               32.5\n",
              "113         Cloudflare        cloudflare.com  ...      Operating              182.1\n",
              "128      Credit Sesame      creditsesame.com  ...      Operating               35.4\n",
              "130   CrowdFlower Inc.       crowdflower.com  ...      Operating               38.0\n",
              "132      Cubic Telecom      cubictelecom.com  ...      Operating               37.1\n",
              "138           DataSift          datasift.com  ...      Operating               72.0\n",
              "139             DataXu            dataxu.com  ...      Operating               64.0\n",
              "154            Dropbox           dropbox.com  ...      Operating             1700.0\n",
              "166             Enigma             enigma.io  ...      Operating               34.6\n",
              "172       EverythingMe         everything.me  ...         Closed               35.5\n",
              "179            Famo.us               famo.us  ...      Operating               30.1\n",
              "180            Farmigo           farmigo.com  ...      Operating               26.0\n",
              "188             Fitbit            fitbit.com  ...            Ipo               66.0\n",
              "191              Flock             flock.com  ...       Acquired               28.3\n",
              "209          Getaround         getaround.com  ...      Operating              103.0\n",
              "213               Gild              gild.com  ...       Acquired               25.9\n",
              "215              Glide              glide.me  ...      Operating               36.5\n",
              "225            Grockit           grockit.com  ...       Acquired               44.7\n",
              "231         HackerRank        hackerrank.com  ...      Operating               24.2\n",
              "271     Ionic Security     ionicsecurity.com  ...      Operating              122.4\n",
              "276               IZEA              izea.com  ...            Ipo               34.9\n",
              "279               Jiff              jiff.com  ...       Acquired               67.8\n",
              "282            Kaltura           kaltura.com  ...      Operating              166.1\n",
              "302              Layer             layer.com  ...      Operating               42.1\n",
              "305          LearnVest         learnvest.com  ...       Acquired               69.0\n",
              "313         LiveIntent        liveintent.com  ...      Operating               65.1\n",
              "325           Lystable          lystable.com  ...      Operating               25.1\n",
              "346               Mint              mint.com  ...       Acquired               31.8\n",
              "389        OrderWithMe       orderwithme.com  ...      Operating               37.0\n",
              "393               Osmo          playosmo.com  ...      Operating               38.5\n",
              "394              Ossia             ossia.com  ...      Operating               25.5\n",
              "398    Owlet Baby Care         owletcare.com  ...      Operating               24.0\n",
              "427          Postmates         postmates.com  ...      Operating              278.0\n",
              "432      Prism Skylabs             prism.com  ...      Operating               24.0\n",
              "435           PubMatic          pubmatic.com  ...      Operating               63.0\n",
              "460             Roadie            roadie.com  ...      Operating               25.0\n",
              "471           SeatGeek          seatgeek.com  ...      Operating              160.0\n",
              "546          StyleSeat         styleseat.com  ...      Operating               40.0\n",
              "555  Symphony Commerce  symphonycommerce.com  ...      Operating               47.4\n",
              "560           Talkdesk          talkdesk.com  ...      Operating               24.5\n",
              "581           TouchPal          touchpal.com  ...      Operating               25.0\n",
              "593            TrueCar           truecar.com  ...            Ipo              332.4\n",
              "598     UberConference    uberconference.com  ...      Operating               35.0\n",
              "606             Upwork            upwork.com  ...      Operating              168.8\n",
              "615          VideoSurf         videosurf.com  ...       Acquired               28.0\n",
              "625               Voxy              voxy.com  ...      Operating               30.8\n",
              "643              Xobni             yahoo.com  ...       Acquired               41.8\n",
              "644             Yammer            yammer.com  ...       Acquired              142.0\n",
              "647               Yext              yext.com  ...            Ipo              117.8\n",
              "649             YouNow            younow.com  ...      Operating               26.0\n",
              "650       YourMechanic      yourmechanic.com  ...      Operating               28.0\n",
              "654               ZEFR              zefr.com  ...      Operating               62.1\n",
              "656           Zenefits          zenefits.com  ...      Operating              583.6\n",
              "659             Zocdoc            zocdoc.com  ...      Operating              223.0\n",
              "661             Zumper            zumper.com  ...      Operating               31.5\n",
              "\n",
              "[60 rows x 7 columns]"
            ]
          },
          "metadata": {
            "tags": []
          },
          "execution_count": 142
        }
      ]
    },
    {
      "cell_type": "markdown",
      "metadata": {
        "id": "UGbP7EspJrVF"
      },
      "source": [
        "**Drop the values that are greater than upper fence**"
      ]
    },
    {
      "cell_type": "code",
      "metadata": {
        "id": "4zftGVmEJgBK"
      },
      "source": [
        "df1.drop(df1[df1.Funding_in_million > upper_fence].index, inplace = True)"
      ],
      "execution_count": null,
      "outputs": []
    },
    {
      "cell_type": "markdown",
      "metadata": {
        "id": "lBGhIuxKKFeV"
      },
      "source": [
        "**Plot the box plot after dropping the values.**"
      ]
    },
    {
      "cell_type": "code",
      "metadata": {
        "colab": {
          "base_uri": "https://localhost:8080/",
          "height": 281
        },
        "id": "ivo5XcwJJ5ZV",
        "outputId": "da0a9494-d2a8-4dfd-ce03-5a4d0d02b57f"
      },
      "source": [
        "plot = plt.boxplot(df1.Funding_in_million)\n",
        "plt.title('Boxplot of funds without the original outliers')\n",
        "plt.ylabel(\"Funding (in Million)\")\n",
        "plt.show()"
      ],
      "execution_count": null,
      "outputs": [
        {
          "output_type": "display_data",
          "data": {
            "image/png": "[encoded data removed]",
            "text/plain": [
              "<Figure size 432x288 with 1 Axes>"
            ]
          },
          "metadata": {
            "tags": [],
            "needs_background": "light"
          }
        }
      ]
    },
    {
      "cell_type": "markdown",
      "metadata": {
        "id": "Xvj-x_lHKJ9e"
      },
      "source": [
        "**Check frequency of the OperatingState features classes**"
      ]
    },
    {
      "cell_type": "code",
      "metadata": {
        "colab": {
          "base_uri": "https://localhost:8080/"
        },
        "id": "ro0oKpNAJ6kn",
        "outputId": "17966540-b154-490d-bf77-cce10e741a92"
      },
      "source": [
        "df1.OperatingState.value_counts()"
      ],
      "execution_count": null,
      "outputs": [
        {
          "output_type": "execute_result",
          "data": {
            "text/plain": [
              "Operating    275\n",
              "Closed        56\n",
              "Acquired      55\n",
              "Name: OperatingState, dtype: int64"
            ]
          },
          "metadata": {
            "tags": []
          },
          "execution_count": 145
        }
      ]
    },
    {
      "cell_type": "markdown",
      "metadata": {
        "id": "mJQhpvHcLE7A"
      },
      "source": [
        "**Plot a distribution plot for Funds in million**"
      ]
    },
    {
      "cell_type": "code",
      "metadata": {
        "colab": {
          "base_uri": "https://localhost:8080/",
          "height": 350
        },
        "id": "PZQat_uXKlms",
        "outputId": "1b7dc888-00a1-4b97-b89e-004296a812b6"
      },
      "source": [
        "dist = sns.distplot(df1.Funding_in_million)\n",
        "plt.title('Distribution of funds in Million')\n",
        "plt.show()"
      ],
      "execution_count": null,
      "outputs": [
        {
          "output_type": "stream",
          "text": [
            "/usr/local/lib/python3.7/dist-packages/seaborn/distributions.py:2557: FutureWarning: `distplot` is a deprecated function and will be removed in a future version. Please adapt your code to use either `displot` (a figure-level function with similar flexibility) or `histplot` (an axes-level function for histograms).\n",
            "  warnings.warn(msg, FutureWarning)\n"
          ],
          "name": "stderr"
        },
        {
          "output_type": "display_data",
          "data": {
            "image/png": "[encoded data removed]",
            "text/plain": [
              "<Figure size 432x288 with 1 Axes>"
            ]
          },
          "metadata": {
            "tags": [],
            "needs_background": "light"
          }
        }
      ]
    },
    {
      "cell_type": "markdown",
      "metadata": {
        "id": "x3c_00BIMjZk"
      },
      "source": [
        "**Plot distribution plots for companies still operating and companies that closed.**"
      ]
    },
    {
      "cell_type": "code",
      "metadata": {
        "colab": {
          "base_uri": "https://localhost:8080/",
          "height": 439
        },
        "id": "NL5OrSpPL3Fu",
        "outputId": "afa4742b-3f1d-49cc-8315-60968b7946af"
      },
      "source": [
        "fig, ax = plt.subplots(1, 2)\n",
        "\n",
        "fig.set_figheight(5)\n",
        "fig.set_figwidth(15)\n",
        "\n",
        "sns.distplot(df1.loc[df1.OperatingState == 'Operating', 'Funding_in_million'], ax = ax[0])\n",
        "sns.distplot(df1.loc[df1.OperatingState == 'Closed', 'Funding_in_million'], ax = ax[1])\n",
        "\n",
        "ax[0].set_title('Funding by the companies still operating')\n",
        "ax[1].set_title('Funding by companies that got closed')\n",
        "\n",
        "plt.show()"
      ],
      "execution_count": null,
      "outputs": [
        {
          "output_type": "stream",
          "text": [
            "/usr/local/lib/python3.7/dist-packages/seaborn/distributions.py:2557: FutureWarning: `distplot` is a deprecated function and will be removed in a future version. Please adapt your code to use either `displot` (a figure-level function with similar flexibility) or `histplot` (an axes-level function for histograms).\n",
            "  warnings.warn(msg, FutureWarning)\n",
            "/usr/local/lib/python3.7/dist-packages/seaborn/distributions.py:2557: FutureWarning: `distplot` is a deprecated function and will be removed in a future version. Please adapt your code to use either `displot` (a figure-level function with similar flexibility) or `histplot` (an axes-level function for histograms).\n",
            "  warnings.warn(msg, FutureWarning)\n"
          ],
          "name": "stderr"
        },
        {
          "output_type": "display_data",
          "data": {
            "image/png": "[encoded data removed]",
            "text/plain": [
              "<Figure size 1080x360 with 2 Axes>"
            ]
          },
          "metadata": {
            "tags": [],
            "needs_background": "light"
          }
        }
      ]
    },
    {
      "cell_type": "markdown",
      "metadata": {
        "id": "DgA5D5slItrw"
      },
      "source": [
        "**Statistical analysis:**"
      ]
    },
    {
      "cell_type": "markdown",
      "metadata": {
        "id": "oeDQegSHIxTd"
      },
      "source": [
        "\n",
        "\n",
        "*   Is there any significant difference between Funds raised by companies that are still operating vs companies that closed down?\n",
        "\n",
        "\n",
        "Write the null hypothesis and alternative hypothesis.\n",
        "\n",
        "Test for significance and conclusion"
      ]
    },
    {
      "cell_type": "markdown",
      "metadata": {
        "id": "1VAjcLqaN-AT"
      },
      "source": [
        "- Visually the distributions are quiet similar\n",
        "- To prove if there is a significant difference or not we will have to perform a hypothesis test\n",
        "- Since we want to compare the difference in means of the samples, we can either use 2 sample t test or z-test\n",
        "- For this exercise we shall do both and compare the results\n",
        "- One thing to notice is that the distributions are not normal yet, since our sample size is reasonably big ( >30 samples), we will go ahead with the aforementioned tests\n",
        "\n",
        "For the first test, \n",
        "\n",
        "**Null hypothesis (Ho)** : There is no difference between the two means\n",
        "\n",
        "**Alternate hypothesis (Ha)** : There is significant difference between the two means"
      ]
    },
    {
      "cell_type": "code",
      "metadata": {
        "id": "8hkbhVGZOs7e",
        "colab": {
          "base_uri": "https://localhost:8080/"
        },
        "outputId": "b9d8dd27-2146-49e5-8169-a7b6c4ad56ca"
      },
      "source": [
        "from statsmodels.stats.weightstats import ztest\n",
        "\n",
        "sample1 = df1.loc[df1.OperatingState == 'Operating', 'Funding_in_million']\n",
        "sample2 = df1.loc[df1.OperatingState == 'Closed', 'Funding_in_million']\n",
        "\n",
        "alpha = 0.05 # Let's consider a significance level of 5%\n",
        "\n",
        "test_statistic, p_value = ztest(sample1, sample2)\n",
        "\n",
        "if p_value <= alpha:\n",
        "    print(f'Since the p-value, {round(p_value, 3)} < {alpha} (alpha) the difference is significant and we reject the Null hypothesis')\n",
        "else:\n",
        "    print(f'''\\t Since the p-value, {round(p_value, 3)} > {alpha} (alpha) the difference is not significant and, \\t we fail to reject the Null hypothesis''')"
      ],
      "execution_count": null,
      "outputs": [
        {
          "output_type": "stream",
          "text": [
            "\t Since the p-value, 0.192 > 0.05 (alpha) the difference is not significant and, \t we fail to reject the Null hypothesis\n"
          ],
          "name": "stdout"
        }
      ]
    },
    {
      "cell_type": "markdown",
      "metadata": {
        "id": "CqlBLBpkOaMl"
      },
      "source": [
        "**Z Test :** Hence We failed to reject the Null hypothesis"
      ]
    },
    {
      "cell_type": "code",
      "metadata": {
        "colab": {
          "base_uri": "https://localhost:8080/"
        },
        "id": "lU5rQf6fOmRx",
        "outputId": "f16c1d49-cbd7-4e04-d711-69fc43e31cd7"
      },
      "source": [
        "from scipy.stats import ttest_ind\n",
        "\n",
        "test_statistic, p_value = ttest_ind(sample1, sample2)\n",
        "\n",
        "if p_value <= alpha:\n",
        "    print(f'Since the p-value, {round(p_value, 3)} < {alpha} (alpha) the difference is significant and we reject the Null hypothesis')\n",
        "else:\n",
        "    print(f'''\\t Since the p-value, {round(p_value, 3)} > {alpha} (alpha) the difference is not significant and, \\t we fail to reject the Null hypothesis''')"
      ],
      "execution_count": null,
      "outputs": [
        {
          "output_type": "stream",
          "text": [
            "\t Since the p-value, 0.193 > 0.05 (alpha) the difference is not significant and, \t we fail to reject the Null hypothesis\n"
          ],
          "name": "stdout"
        }
      ]
    },
    {
      "cell_type": "markdown",
      "metadata": {
        "id": "zjJbG-33O51S"
      },
      "source": [
        "**T Test :** Hence We failed to reject the Null hypothesis"
      ]
    },
    {
      "cell_type": "markdown",
      "metadata": {
        "id": "ZOEvxKEGPOzr"
      },
      "source": [
        "**Make a copy of the original data frame.**"
      ]
    },
    {
      "cell_type": "code",
      "metadata": {
        "id": "1IgfJF7WO5hd"
      },
      "source": [
        "df2 = df.copy(deep = True)"
      ],
      "execution_count": null,
      "outputs": []
    },
    {
      "cell_type": "code",
      "metadata": {
        "colab": {
          "base_uri": "https://localhost:8080/",
          "height": 204
        },
        "id": "BzJU5FQRPWFm",
        "outputId": "74dda749-7816-4a01-dbae-f72223e651c4"
      },
      "source": [
        "df2.head()"
      ],
      "execution_count": null,
      "outputs": [
        {
          "output_type": "execute_result",
          "data": {
            "text/html": [
              "<div>\n",
              "<style scoped>\n",
              "    .dataframe tbody tr th:only-of-type {\n",
              "        vertical-align: middle;\n",
              "    }\n",
              "\n",
              "    .dataframe tbody tr th {\n",
              "        vertical-align: top;\n",
              "    }\n",
              "\n",
              "    .dataframe thead th {\n",
              "        text-align: right;\n",
              "    }\n",
              "</style>\n",
              "<table border=\"1\" class=\"dataframe\">\n",
              "  <thead>\n",
              "    <tr style=\"text-align: right;\">\n",
              "      <th></th>\n",
              "      <th>Startup</th>\n",
              "      <th>Product</th>\n",
              "      <th>Funding</th>\n",
              "      <th>Event</th>\n",
              "      <th>Result</th>\n",
              "      <th>OperatingState</th>\n",
              "    </tr>\n",
              "  </thead>\n",
              "  <tbody>\n",
              "    <tr>\n",
              "      <th>0</th>\n",
              "      <td>2600Hz</td>\n",
              "      <td>2600hz.com</td>\n",
              "      <td>NaN</td>\n",
              "      <td>Disrupt SF 2013</td>\n",
              "      <td>Contestant</td>\n",
              "      <td>Operating</td>\n",
              "    </tr>\n",
              "    <tr>\n",
              "      <th>1</th>\n",
              "      <td>3DLT</td>\n",
              "      <td>3dlt.com</td>\n",
              "      <td>$630K</td>\n",
              "      <td>Disrupt NYC 2013</td>\n",
              "      <td>Contestant</td>\n",
              "      <td>Closed</td>\n",
              "    </tr>\n",
              "    <tr>\n",
              "      <th>2</th>\n",
              "      <td>3DPrinterOS</td>\n",
              "      <td>3dprinteros.com</td>\n",
              "      <td>NaN</td>\n",
              "      <td>Disrupt SF 2016</td>\n",
              "      <td>Contestant</td>\n",
              "      <td>Operating</td>\n",
              "    </tr>\n",
              "    <tr>\n",
              "      <th>3</th>\n",
              "      <td>3Dprintler</td>\n",
              "      <td>3dprintler.com</td>\n",
              "      <td>$1M</td>\n",
              "      <td>Disrupt NY 2016</td>\n",
              "      <td>Audience choice</td>\n",
              "      <td>Operating</td>\n",
              "    </tr>\n",
              "    <tr>\n",
              "      <th>4</th>\n",
              "      <td>42 Technologies</td>\n",
              "      <td>42technologies.com</td>\n",
              "      <td>NaN</td>\n",
              "      <td>Disrupt NYC 2013</td>\n",
              "      <td>Contestant</td>\n",
              "      <td>Operating</td>\n",
              "    </tr>\n",
              "  </tbody>\n",
              "</table>\n",
              "</div>"
            ],
            "text/plain": [
              "           Startup             Product  ...           Result OperatingState\n",
              "0           2600Hz          2600hz.com  ...       Contestant      Operating\n",
              "1             3DLT            3dlt.com  ...       Contestant         Closed\n",
              "2      3DPrinterOS     3dprinteros.com  ...       Contestant      Operating\n",
              "3       3Dprintler      3dprintler.com  ...  Audience choice      Operating\n",
              "4  42 Technologies  42technologies.com  ...       Contestant      Operating\n",
              "\n",
              "[5 rows x 6 columns]"
            ]
          },
          "metadata": {
            "tags": []
          },
          "execution_count": 151
        }
      ]
    },
    {
      "cell_type": "markdown",
      "metadata": {
        "id": "TiFmT4NVPwSD"
      },
      "source": [
        "**Check frequency distribution of Result variable.**"
      ]
    },
    {
      "cell_type": "code",
      "metadata": {
        "colab": {
          "base_uri": "https://localhost:8080/"
        },
        "id": "rY03aQCqPeLP",
        "outputId": "6f163de4-a580-4de3-c2bb-bc7dcace1036"
      },
      "source": [
        "df2.Result.value_counts()"
      ],
      "execution_count": null,
      "outputs": [
        {
          "output_type": "execute_result",
          "data": {
            "text/plain": [
              "Contestant         488\n",
              "Finalist            84\n",
              "Audience choice     41\n",
              "Winner              26\n",
              "Runner up           23\n",
              "Name: Result, dtype: int64"
            ]
          },
          "metadata": {
            "tags": []
          },
          "execution_count": 152
        }
      ]
    },
    {
      "cell_type": "markdown",
      "metadata": {
        "id": "YUACVA0cQOoL"
      },
      "source": [
        "**Calculate percentage of winners that are still operating and percentage of contestants that are still operating**"
      ]
    },
    {
      "cell_type": "code",
      "metadata": {
        "colab": {
          "base_uri": "https://localhost:8080/",
          "height": 173
        },
        "id": "QdgQLA8RTVXb",
        "outputId": "2d7c37e1-be79-44d2-8fbf-9a87e286bc3b"
      },
      "source": [
        "df2.describe()"
      ],
      "execution_count": null,
      "outputs": [
        {
          "output_type": "execute_result",
          "data": {
            "text/html": [
              "<div>\n",
              "<style scoped>\n",
              "    .dataframe tbody tr th:only-of-type {\n",
              "        vertical-align: middle;\n",
              "    }\n",
              "\n",
              "    .dataframe tbody tr th {\n",
              "        vertical-align: top;\n",
              "    }\n",
              "\n",
              "    .dataframe thead th {\n",
              "        text-align: right;\n",
              "    }\n",
              "</style>\n",
              "<table border=\"1\" class=\"dataframe\">\n",
              "  <thead>\n",
              "    <tr style=\"text-align: right;\">\n",
              "      <th></th>\n",
              "      <th>Startup</th>\n",
              "      <th>Product</th>\n",
              "      <th>Funding</th>\n",
              "      <th>Event</th>\n",
              "      <th>Result</th>\n",
              "      <th>OperatingState</th>\n",
              "    </tr>\n",
              "  </thead>\n",
              "  <tbody>\n",
              "    <tr>\n",
              "      <th>count</th>\n",
              "      <td>662</td>\n",
              "      <td>656</td>\n",
              "      <td>448</td>\n",
              "      <td>662</td>\n",
              "      <td>662</td>\n",
              "      <td>662</td>\n",
              "    </tr>\n",
              "    <tr>\n",
              "      <th>unique</th>\n",
              "      <td>662</td>\n",
              "      <td>656</td>\n",
              "      <td>240</td>\n",
              "      <td>26</td>\n",
              "      <td>5</td>\n",
              "      <td>4</td>\n",
              "    </tr>\n",
              "    <tr>\n",
              "      <th>top</th>\n",
              "      <td>CUJO</td>\n",
              "      <td>jewelbots.com</td>\n",
              "      <td>$1M</td>\n",
              "      <td>TC50 2008</td>\n",
              "      <td>Contestant</td>\n",
              "      <td>Operating</td>\n",
              "    </tr>\n",
              "    <tr>\n",
              "      <th>freq</th>\n",
              "      <td>1</td>\n",
              "      <td>1</td>\n",
              "      <td>17</td>\n",
              "      <td>52</td>\n",
              "      <td>488</td>\n",
              "      <td>465</td>\n",
              "    </tr>\n",
              "  </tbody>\n",
              "</table>\n",
              "</div>"
            ],
            "text/plain": [
              "       Startup        Product Funding      Event      Result OperatingState\n",
              "count      662            656     448        662         662            662\n",
              "unique     662            656     240         26           5              4\n",
              "top       CUJO  jewelbots.com     $1M  TC50 2008  Contestant      Operating\n",
              "freq         1              1      17         52         488            465"
            ]
          },
          "metadata": {
            "tags": []
          },
          "execution_count": 153
        }
      ]
    },
    {
      "cell_type": "code",
      "metadata": {
        "id": "YmAcZcIgQR0S"
      },
      "source": [
        "winners = df2.Result.value_counts()[1:].sum()\n",
        "contestants = df2.Result.value_counts()['Contestant']"
      ],
      "execution_count": null,
      "outputs": []
    },
    {
      "cell_type": "code",
      "metadata": {
        "colab": {
          "base_uri": "https://localhost:8080/"
        },
        "id": "YzgGra8gQcd2",
        "outputId": "3bb505a0-c03f-4b19-8a3c-8e601f87b14e"
      },
      "source": [
        "print(winners)\n",
        "print(contestants)"
      ],
      "execution_count": null,
      "outputs": [
        {
          "output_type": "stream",
          "text": [
            "174\n",
            "488\n"
          ],
          "name": "stdout"
        }
      ]
    },
    {
      "cell_type": "code",
      "metadata": {
        "id": "gyAiGWuoQeei"
      },
      "source": [
        "contestants_operating = df2.OperatingState[df2.Result == 'Contestant'].value_counts().loc['Operating']"
      ],
      "execution_count": null,
      "outputs": []
    },
    {
      "cell_type": "code",
      "metadata": {
        "colab": {
          "base_uri": "https://localhost:8080/"
        },
        "id": "HU_xK6WgQjf7",
        "outputId": "6b6c97d4-9393-402e-990b-aee4c9ce05e1"
      },
      "source": [
        "contestants_operating"
      ],
      "execution_count": null,
      "outputs": [
        {
          "output_type": "execute_result",
          "data": {
            "text/plain": [
              "332"
            ]
          },
          "metadata": {
            "tags": []
          },
          "execution_count": 157
        }
      ]
    },
    {
      "cell_type": "code",
      "metadata": {
        "id": "yOYk7as7QlEr"
      },
      "source": [
        "winner_Opt_per = (winners_operating/winners)*100"
      ],
      "execution_count": null,
      "outputs": []
    },
    {
      "cell_type": "code",
      "metadata": {
        "colab": {
          "base_uri": "https://localhost:8080/"
        },
        "id": "_oi4aOvcQra8",
        "outputId": "67f1867a-5003-4590-aa05-f9ebf386812a"
      },
      "source": [
        "winner_Opt_per"
      ],
      "execution_count": null,
      "outputs": [
        {
          "output_type": "execute_result",
          "data": {
            "text/plain": [
              "76.4367816091954"
            ]
          },
          "metadata": {
            "tags": []
          },
          "execution_count": 159
        }
      ]
    },
    {
      "cell_type": "code",
      "metadata": {
        "id": "GqrFgBUOYBp2"
      },
      "source": [
        "constant_Opt_per =  (contestants_operating/contestants)*100"
      ],
      "execution_count": null,
      "outputs": []
    },
    {
      "cell_type": "code",
      "metadata": {
        "colab": {
          "base_uri": "https://localhost:8080/"
        },
        "id": "ra12ccuzXKNa",
        "outputId": "01673bbc-9ae1-444e-abd7-022e68fa887e"
      },
      "source": [
        "constant_Opt_per"
      ],
      "execution_count": null,
      "outputs": [
        {
          "output_type": "execute_result",
          "data": {
            "text/plain": [
              "68.0327868852459"
            ]
          },
          "metadata": {
            "tags": []
          },
          "execution_count": 161
        }
      ]
    },
    {
      "cell_type": "markdown",
      "metadata": {
        "id": "M8cFP1H_YKKp"
      },
      "source": [
        "Write your hypothesis comparing the proportion of companies that are operating between winners and contestants:\n",
        " \n",
        " \n",
        "\n",
        "1.   Write the null hypothesis and alternative hypothesis.\n",
        "2.   Test for significance and conclusion\n",
        "\n",
        "\n",
        "\n"
      ]
    },
    {
      "cell_type": "markdown",
      "metadata": {
        "id": "Gb_1SQkxYktB"
      },
      "source": [
        "- There is some difference between the proportion operational companies in the two categories, but let's see if the differnce is significant\n",
        "- There are two ways we can check if the difference is significant\n",
        "    - Z-test for proportions\n",
        "    - Chi-square test\n",
        "- We shall perform z-test in this case, however, do experiment with Chi-square test and observe if the p-value from both tests gives the same conclusion or not\n",
        "\n",
        "**Null hyputhesis (Ho)**: The proportion of companies that are operating is the same in both categories - winners and contestants\n",
        "\n",
        "**Alternative hypothesis (Ha)**: The proportion of companies that are operating is significantly different from each other, among the two categories"
      ]
    },
    {
      "cell_type": "code",
      "metadata": {
        "colab": {
          "base_uri": "https://localhost:8080/"
        },
        "id": "PvzK9RkwYJ2M",
        "outputId": "acd0f93f-e296-4ead-97b0-5a886683139b"
      },
      "source": [
        "from statsmodels.stats.proportion import proportions_ztest\n",
        "\n",
        "test_statistic, p_value = proportions_ztest([contestants_operating, winners_operating], [contestants, winners])\n",
        "\n",
        "if p_value <= alpha:\n",
        "    print(f'Since the p-value, {round(p_value, 3)} < {alpha} (alpha) the difference is significant and we reject the Null hypothesis')\n",
        "else: \n",
        "    print(f'''\\t Since the p-value, {round(p_value, 3)} > {alpha} (alpha) the difference is not significant and, \\t we fail to reject the Null hypothesis''')"
      ],
      "execution_count": null,
      "outputs": [
        {
          "output_type": "stream",
          "text": [
            "Since the p-value, 0.037 < 0.05 (alpha) the difference is significant and we reject the Null hypothesis\n"
          ],
          "name": "stdout"
        }
      ]
    },
    {
      "cell_type": "markdown",
      "metadata": {
        "id": "DRfCTdz_ZNmM"
      },
      "source": [
        "# Conclusion:\n",
        "- The amount of funding a company is not a significant factor in deciding if the company will remain operational or close down\n",
        "- Winners in the company X battle have proven to remain operational more so, than the companies that came out only as contestants"
      ]
    },
    {
      "cell_type": "markdown",
      "metadata": {
        "id": "taC94YH3ZTBZ"
      },
      "source": [
        "**Check distribution of the Event variable.**"
      ]
    },
    {
      "cell_type": "code",
      "metadata": {
        "colab": {
          "base_uri": "https://localhost:8080/"
        },
        "id": "yZan98OQYpXy",
        "outputId": "d271f185-e792-487a-bdd9-f54bdc9d1c9e"
      },
      "source": [
        "df1[df1.Event.apply(lambda x: 'Disrupt' in x)].Event.value_counts()"
      ],
      "execution_count": null,
      "outputs": [
        {
          "output_type": "execute_result",
          "data": {
            "text/plain": [
              "Disrupt NY 2015         21\n",
              "Disrupt SF 2013         19\n",
              "Disrupt SF 2014         19\n",
              "Disrupt SF 2011         19\n",
              "Disrupt NYC 2012        19\n",
              "Disrupt SF 2015         19\n",
              "Disrupt NYC 2013        19\n",
              "Disrupt SF 2016         17\n",
              "Disrupt NY 2016         16\n",
              "Disrupt NYC 2011        15\n",
              "Disrupt NYC 2014        15\n",
              "Disrupt SF 2012         15\n",
              "Disrupt SF 2010         13\n",
              "Disrupt London 2015     11\n",
              "Disrupt London 2016     10\n",
              "Disrupt NYC 2010        10\n",
              "Disrupt EU 2014         10\n",
              "Disrupt EU 2013          9\n",
              "Disrupt Beijing 2011     4\n",
              "Name: Event, dtype: int64"
            ]
          },
          "metadata": {
            "tags": []
          },
          "execution_count": 163
        }
      ]
    },
    {
      "cell_type": "markdown",
      "metadata": {
        "id": "dK-Xkw4FZluE"
      },
      "source": [
        "**Select only the Event that has disrupt keyword from 2013 onwards**"
      ]
    },
    {
      "cell_type": "code",
      "metadata": {
        "colab": {
          "base_uri": "https://localhost:8080/"
        },
        "id": "LEAAfpwWZfvL",
        "outputId": "9b6e714c-f891-4d75-83d9-d454495c990b"
      },
      "source": [
        "events = df1[df1.Event.apply(lambda x: 'Disrupt' in x and int(x[-4:]) > 2012)].Event # all the events of relevance\n",
        "events"
      ],
      "execution_count": null,
      "outputs": [
        {
          "output_type": "execute_result",
          "data": {
            "text/plain": [
              "1         Disrupt NYC 2013\n",
              "3          Disrupt NY 2016\n",
              "13         Disrupt SF 2015\n",
              "14     Disrupt London 2016\n",
              "16         Disrupt SF 2015\n",
              "              ...         \n",
              "635        Disrupt NY 2015\n",
              "641       Disrupt NYC 2013\n",
              "642        Disrupt SF 2014\n",
              "646    Disrupt London 2015\n",
              "660        Disrupt SF 2013\n",
              "Name: Event, Length: 185, dtype: object"
            ]
          },
          "metadata": {
            "tags": []
          },
          "execution_count": 164
        }
      ]
    },
    {
      "cell_type": "markdown",
      "metadata": {
        "id": "klJg4irraOcR"
      },
      "source": [
        "Write and perform your hypothesis along with significance test comparing the funds raised by companies across NY, SF and EU events from\n",
        "2013 onwards"
      ]
    },
    {
      "cell_type": "code",
      "metadata": {
        "colab": {
          "base_uri": "https://localhost:8080/"
        },
        "id": "qa6Pky0YaFBg",
        "outputId": "caccb9d1-b491-48db-8f95-c353cb340eca"
      },
      "source": [
        "NY_events = df1.loc[events[events.apply(lambda x: 'NY' in x)].index, 'Funding_in_million']\n",
        "SF_events = df1.loc[events[events.apply(lambda x: 'SF' in x)].index, 'Funding_in_million']\n",
        "EU_events = df1.loc[events[events.apply(lambda x: 'EU' in x or 'London' in x)].index, 'Funding_in_million']\n",
        "print(len(NY_events), len(SF_events), len(EU_events))"
      ],
      "execution_count": null,
      "outputs": [
        {
          "output_type": "stream",
          "text": [
            "71 74 40\n"
          ],
          "name": "stdout"
        }
      ]
    },
    {
      "cell_type": "markdown",
      "metadata": {
        "id": "2WHAzfKNaUnE"
      },
      "source": [
        "- Each of the three above variables hold the amount of funds with respect to the Cities where the even was organised\n",
        "- The sample sizes are different across the three categories and it is okay to perform ANOVA on samples of different sizes\n",
        "\n",
        "\n",
        "**Null Hypothesis(Ho)**: Average funding by companies across three cities are the same \n",
        "\n",
        "**Alternative Hypothesis(Ha)**: Average funding by companies across three cities are the different"
      ]
    },
    {
      "cell_type": "markdown",
      "metadata": {
        "id": "YLp1FiUgagUh"
      },
      "source": [
        "**Plot the distribution plot comparing the 3 city events.**"
      ]
    },
    {
      "cell_type": "code",
      "metadata": {
        "colab": {
          "base_uri": "https://localhost:8080/",
          "height": 511
        },
        "id": "-LbLc-TbaIiA",
        "outputId": "2ac0b29d-f00b-416c-8ab6-532f2d92233a"
      },
      "source": [
        "plt.figure(figsize=(15,6))\n",
        "sns.distplot(NY_events, color = 'Red', label = 'NY')\n",
        "sns.distplot(SF_events, color = 'Gold', label = 'SF')\n",
        "sns.distplot(EU_events, color = 'blue', label = 'EU')\n",
        "plt.legend()\n",
        "plt.show()"
      ],
      "execution_count": null,
      "outputs": [
        {
          "output_type": "stream",
          "text": [
            "/usr/local/lib/python3.7/dist-packages/seaborn/distributions.py:2557: FutureWarning: `distplot` is a deprecated function and will be removed in a future version. Please adapt your code to use either `displot` (a figure-level function with similar flexibility) or `histplot` (an axes-level function for histograms).\n",
            "  warnings.warn(msg, FutureWarning)\n",
            "/usr/local/lib/python3.7/dist-packages/seaborn/distributions.py:2557: FutureWarning: `distplot` is a deprecated function and will be removed in a future version. Please adapt your code to use either `displot` (a figure-level function with similar flexibility) or `histplot` (an axes-level function for histograms).\n",
            "  warnings.warn(msg, FutureWarning)\n",
            "/usr/local/lib/python3.7/dist-packages/seaborn/distributions.py:2557: FutureWarning: `distplot` is a deprecated function and will be removed in a future version. Please adapt your code to use either `displot` (a figure-level function with similar flexibility) or `histplot` (an axes-level function for histograms).\n",
            "  warnings.warn(msg, FutureWarning)\n"
          ],
          "name": "stderr"
        },
        {
          "output_type": "display_data",
          "data": {
            "image/png": "[encoded data removed]",
            "text/plain": [
              "<Figure size 1080x432 with 1 Axes>"
            ]
          },
          "metadata": {
            "tags": [],
            "needs_background": "light"
          }
        }
      ]
    },
    {
      "cell_type": "code",
      "metadata": {
        "colab": {
          "base_uri": "https://localhost:8080/"
        },
        "id": "PsYVE-SAaX9g",
        "outputId": "aba232d0-ceb6-4b01-ce9e-c0664606cf24"
      },
      "source": [
        "from scipy.stats import f_oneway\n",
        "\n",
        "stats, p_value = f_oneway(NY_events, SF_events, EU_events)\n",
        "\n",
        "if p_value <= alpha:\n",
        "    print(f'Since the p-value, {round(p_value, 3)} < {alpha} (alpha) the difference is significant and we reject the Null hypothesis')\n",
        "else: \n",
        "    print(f'''\\t Since the p-value, {round(p_value, 3)} > {alpha} (alpha) the difference is not significant and, \\t we fail to reject the Null hypothesis''')"
      ],
      "execution_count": null,
      "outputs": [
        {
          "output_type": "stream",
          "text": [
            "\t Since the p-value, 0.628 > 0.05 (alpha) the difference is not significant and, \t we fail to reject the Null hypothesis\n"
          ],
          "name": "stdout"
        }
      ]
    },
    {
      "cell_type": "markdown",
      "metadata": {
        "id": "28mWgEbZaq_3"
      },
      "source": [
        "# Write your observations on improvements or suggestions on quality, quantity, variety, velocity, veracity etc. on the data points collected to perform a better data analysis."
      ]
    },
    {
      "cell_type": "markdown",
      "metadata": {
        "id": "gtheqxILbP7j"
      },
      "source": [
        "The distribution of funding by companies in all three sectors is similar. We found no evidence to say that participating companies in certain sectors have either higher levels or lower levels of funding"
      ]
    },
    {
      "cell_type": "code",
      "metadata": {
        "id": "X14fPo2uavI5"
      },
      "source": [
        ""
      ],
      "execution_count": null,
      "outputs": []
    }
  ]
}