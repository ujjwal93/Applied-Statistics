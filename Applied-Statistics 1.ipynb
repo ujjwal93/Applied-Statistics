{
 "cells": [
  {
   "cell_type": "markdown",
   "metadata": {
    "id": "ZrnXyMfhhelp"
   },
   "source": [
    "Question: Please refer the table below to answer below questions:\n",
    "1. Refer to the above table and find the joint probability of the people who planned to purchase and actually\n",
    "placed an order.\n",
    "2. Refer to the above table and find the joint probability of the people who planned to purchase and actually\n",
    "placed an order, given that people planned to purchase.\n",
    "\n",
    "\n"
   ]
  },
  {
   "cell_type": "code",
   "execution_count": null,
   "metadata": {
    "id": "9MptT3y0nnJT"
   },
   "outputs": [],
   "source": [
    "import numpy as np\n",
    "import scipy.stats as stats\n",
    "import matplotlib.pyplot as plt\n"
   ]
  },
  {
   "cell_type": "markdown",
   "metadata": {
    "id": "ZBvk0bCehz1S"
   },
   "source": [
    "1.1"
   ]
  },
  {
   "cell_type": "code",
   "execution_count": null,
   "metadata": {
    "colab": {
     "base_uri": "https://localhost:8080/"
    },
    "id": "1EglKuXjh2fa",
    "outputId": "346fa99f-b1d7-4084-8e1f-f070ecc5404f"
   },
   "outputs": [
    {
     "data": {
      "text/plain": [
       "0.2"
      ]
     },
     "execution_count": 2,
     "metadata": {
      "tags": []
     },
     "output_type": "execute_result"
    }
   ],
   "source": [
    "r=400 #number of actually placed order\n",
    "total=2000\n",
    "p = (r/total) #probability of the people who planned to purchase and actually placed an order.\n",
    "p\n"
   ]
  },
  {
   "cell_type": "markdown",
   "metadata": {
    "id": "hqoK3ZD2jLTy"
   },
   "source": [
    "1.2"
   ]
  },
  {
   "cell_type": "code",
   "execution_count": null,
   "metadata": {
    "colab": {
     "base_uri": "https://localhost:8080/"
    },
    "id": "_YEsOsFkjNMx",
    "outputId": "a4b13934-6ac0-4a62-8989-db15a70b2894"
   },
   "outputs": [
    {
     "data": {
      "text/plain": [
       "0.8"
      ]
     },
     "execution_count": 4,
     "metadata": {
      "tags": []
     },
     "output_type": "execute_result"
    }
   ],
   "source": [
    "n= 500  #total number of customer who planned to purchase \n",
    "p1 = (r/n) #probability of the people who planned to purchase and actually placed an order, given that people planned to purchase.\n",
    "p1"
   ]
  },
  {
   "cell_type": "markdown",
   "metadata": {
    "id": "MmBjTf_Cj91g"
   },
   "source": [
    "Question 2: An electrical manufacturing company conducts quality checks at specified periods on the\n",
    "products it manufactures. Historically, the failure rate for the manufactured item is 5%. Suppose a random\n",
    "sample of 10 manufactured items is selected. Answer the following questions.\n",
    "A. Probability that none of the items are defective?\n",
    "\n",
    "\n"
   ]
  },
  {
   "cell_type": "code",
   "execution_count": null,
   "metadata": {
    "colab": {
     "base_uri": "https://localhost:8080/"
    },
    "id": "5QJjpeNakKdD",
    "outputId": "eb1da023-7cb4-4404-c4e6-6e6cac7fa6f9"
   },
   "outputs": [
    {
     "data": {
      "text/plain": [
       "0.5987369392383789"
      ]
     },
     "execution_count": 6,
     "metadata": {
      "tags": []
     },
     "output_type": "execute_result"
    }
   ],
   "source": [
    "p = 0.05\n",
    "n = 10\n",
    "k = 0\n",
    "binomial = stats.binom.pmf(k,n,p)\n",
    "binomial"
   ]
  },
  {
   "cell_type": "markdown",
   "metadata": {
    "id": "FPDXi-6UoIPm"
   },
   "source": [
    "B. Probability that exactly one of the items is defective?\n"
   ]
  },
  {
   "cell_type": "code",
   "execution_count": null,
   "metadata": {
    "colab": {
     "base_uri": "https://localhost:8080/"
    },
    "id": "U1uOscs_oOQh",
    "outputId": "5db8e4aa-31db-48ae-c76b-b3a2c0feb144"
   },
   "outputs": [
    {
     "data": {
      "text/plain": [
       "0.31512470486230504"
      ]
     },
     "execution_count": 7,
     "metadata": {
      "tags": []
     },
     "output_type": "execute_result"
    }
   ],
   "source": [
    "p = 0.05\n",
    "n = 10\n",
    "k = 1\n",
    "binomial = stats.binom.pmf(k,n,p)\n",
    "binomial"
   ]
  },
  {
   "cell_type": "markdown",
   "metadata": {
    "id": "xEORXxxboWGM"
   },
   "source": [
    "C. Probability that two or fewer of the items are defective?\n"
   ]
  },
  {
   "cell_type": "code",
   "execution_count": null,
   "metadata": {
    "colab": {
     "base_uri": "https://localhost:8080/"
    },
    "id": "vxfJSQ97oY0e",
    "outputId": "db1ec44a-5baf-4a90-bb39-097d6ccc4ed5"
   },
   "outputs": [
    {
     "data": {
      "text/plain": [
       "0.9884964426207035"
      ]
     },
     "execution_count": 10,
     "metadata": {
      "tags": []
     },
     "output_type": "execute_result"
    }
   ],
   "source": [
    "p = 0.05\n",
    "n = 10\n",
    "k = np.arange(0,3)\n",
    "binomial = stats.binom.pmf(k,n,p)\n",
    "np.sum(binomial)"
   ]
  },
  {
   "cell_type": "markdown",
   "metadata": {
    "id": "GJ1_qnU_pLaG"
   },
   "source": [
    "D. Probability that three or more of the items are defective ?\n"
   ]
  },
  {
   "cell_type": "code",
   "execution_count": null,
   "metadata": {
    "colab": {
     "base_uri": "https://localhost:8080/"
    },
    "id": "pAkgXHTXpZg0",
    "outputId": "7282a66b-0ef5-4ce6-e0f4-3a4a07a99a6e"
   },
   "outputs": [
    {
     "data": {
      "text/plain": [
       "0.011503557379296885"
      ]
     },
     "execution_count": 11,
     "metadata": {
      "tags": []
     },
     "output_type": "execute_result"
    }
   ],
   "source": [
    "p = 0.05\n",
    "n = 10\n",
    "k = np.arange(3,11)\n",
    "binomial = stats.binom.pmf(k,n,p)\n",
    "np.sum(binomial)"
   ]
  },
  {
   "cell_type": "markdown",
   "metadata": {
    "id": "YAbfL154psjS"
   },
   "source": [
    "Question 3.A car salesman sells on an average 3 cars per week.\n",
    "A. Probability that in a given week he will sell some cars.\n"
   ]
  },
  {
   "cell_type": "code",
   "execution_count": null,
   "metadata": {
    "colab": {
     "base_uri": "https://localhost:8080/"
    },
    "id": "XjPk9L_9pwSI",
    "outputId": "a021d7c8-4fc3-4880-a923-8df4cc57a1c6"
   },
   "outputs": [
    {
     "data": {
      "text/plain": [
       "0.950212931632136"
      ]
     },
     "execution_count": 17,
     "metadata": {
      "tags": []
     },
     "output_type": "execute_result"
    }
   ],
   "source": [
    "rate = 3 # average cars sell per week\n",
    "n=0\n",
    "poisson = stats.poisson.pmf(n,rate)\n",
    "s=1-poisson\n",
    "s"
   ]
  },
  {
   "cell_type": "markdown",
   "metadata": {
    "id": "HT98zLZis2WP"
   },
   "source": [
    "B. Probability that in a given week he will sell 2 or more but less than 5 cars.\n"
   ]
  },
  {
   "cell_type": "code",
   "execution_count": null,
   "metadata": {
    "colab": {
     "base_uri": "https://localhost:8080/"
    },
    "id": "fYYwpO83s5UY",
    "outputId": "5224c529-5865-4436-aa1c-84ac00295633"
   },
   "outputs": [
    {
     "data": {
      "text/plain": [
       "array([0.22404181, 0.22404181, 0.16803136])"
      ]
     },
     "execution_count": 26,
     "metadata": {
      "tags": []
     },
     "output_type": "execute_result"
    }
   ],
   "source": [
    "rate = 3 # average cars sell per week\n",
    "n=np.arange(2,5)\n",
    "poisson = stats.poisson.pmf(n,rate)\n",
    "np.sum(poisson)\n",
    "poisson\n"
   ]
  },
  {
   "cell_type": "markdown",
   "metadata": {
    "id": "Qh5ZLZnPunWZ"
   },
   "source": []
  },
  {
   "cell_type": "code",
   "execution_count": null,
   "metadata": {
    "colab": {
     "base_uri": "https://localhost:8080/",
     "height": 296
    },
    "id": "eqEDfEFeunwJ",
    "outputId": "aa226a9c-4f91-4200-96fd-5b84ab1317ad"
   },
   "outputs": [
    {
     "data": {
      "image/png": "[encoded data removed]",
      "text/plain": [
       "<Figure size 432x288 with 1 Axes>"
      ]
     },
     "metadata": {
      "needs_background": "light",
      "tags": []
     },
     "output_type": "display_data"
    }
   ],
   "source": [
    "#visualising the plot with pyplot\n",
    "plt.plot(n,poisson,'o-')\n",
    "plt.title('Poisson: $\\lambda$ = %i ' % rate)\n",
    "plt.xlabel('probability of cars sold per-week')\n",
    "plt.ylabel('number of cars sold per-week')\n",
    "plt.show()"
   ]
  },
  {
   "cell_type": "markdown",
   "metadata": {
    "id": "9Zr9VOPWxYuN"
   },
   "source": [
    "Question: Accuracy in understanding orders for a speech based bot at a restaurant is important for the\n",
    "Company X which has designed, marketed and launched the product for a contactless delivery due to the\n",
    "COVID-19 pandemic. Recognition accuracy that measures the percentage of orders that are taken correctly is\n",
    "86.8%. Suppose that you place order with the bot and two friends of yours independently place orders with\n",
    "the same bot. Answer the following questions.\n",
    "\n",
    "A. What is the probability that all three orders will be recognised correctly?"
   ]
  },
  {
   "cell_type": "code",
   "execution_count": null,
   "metadata": {
    "colab": {
     "base_uri": "https://localhost:8080/"
    },
    "id": "gVZ82KMJxdIW",
    "outputId": "d32d17b0-68e7-4c88-d18a-aad35ecd59ab"
   },
   "outputs": [
    {
     "data": {
      "text/plain": [
       "0.653972032"
      ]
     },
     "execution_count": 33,
     "metadata": {
      "tags": []
     },
     "output_type": "execute_result"
    }
   ],
   "source": [
    "p = 0.868\n",
    "n = 3\n",
    "k =3\n",
    "binomial = stats.binom.pmf(k,n,p)\n",
    "np.sum(binomial)"
   ]
  },
  {
   "cell_type": "markdown",
   "metadata": {
    "id": "En9N7xxpyPvb"
   },
   "source": [
    "B. What is the probability that none of the three orders will be recognised correctly?\n",
    "\n"
   ]
  },
  {
   "cell_type": "code",
   "execution_count": null,
   "metadata": {
    "colab": {
     "base_uri": "https://localhost:8080/"
    },
    "id": "ReL-3LJ8yRqC",
    "outputId": "00847258-ab5d-48e4-df2c-90b02f9b60ef"
   },
   "outputs": [
    {
     "data": {
      "text/plain": [
       "0.002299968"
      ]
     },
     "execution_count": 34,
     "metadata": {
      "tags": []
     },
     "output_type": "execute_result"
    }
   ],
   "source": [
    "p = 0.868\n",
    "n = 3\n",
    "k =0\n",
    "binomial = stats.binom.pmf(k,n,p)\n",
    "np.sum(binomial)"
   ]
  },
  {
   "cell_type": "markdown",
   "metadata": {
    "id": "RUHYqXx7yub6"
   },
   "source": [
    "C. What is the probability that at least two of the three orders will be recognised correctly?\n"
   ]
  },
  {
   "cell_type": "code",
   "execution_count": null,
   "metadata": {
    "colab": {
     "base_uri": "https://localhost:8080/"
    },
    "id": "mbWlU5nyyz66",
    "outputId": "cb224189-64ed-49e9-b65c-b1a7d443e1b7"
   },
   "outputs": [
    {
     "data": {
      "text/plain": [
       "0.9523279359999999"
      ]
     },
     "execution_count": 36,
     "metadata": {
      "tags": []
     },
     "output_type": "execute_result"
    }
   ],
   "source": [
    "p = 0.868\n",
    "n = 3\n",
    "k =np.arange(2,4)\n",
    "binomial = stats.binom.pmf(k,n,p)\n",
    "np.sum(binomial)"
   ]
  },
  {
   "cell_type": "markdown",
   "metadata": {
    "id": "CvGAi9HvzIY0"
   },
   "source": [
    "Question 4: A group of 300 professionals sat for a competitive exam. The results show the information of\n",
    "marks obtained by them have a mean of 60 and a standard deviation of 12. The pattern of marks follows a normal distribution. Answer the following questions.\n",
    "\n",
    "A. What is the percentage of students who score more than 80."
   ]
  },
  {
   "cell_type": "code",
   "execution_count": null,
   "metadata": {
    "id": "1yL1YMwj0rZf"
   },
   "outputs": [],
   "source": []
  },
  {
   "cell_type": "code",
   "execution_count": null,
   "metadata": {
    "colab": {
     "base_uri": "https://localhost:8080/"
    },
    "id": "Mel1siSKzU3l",
    "outputId": "7943fced-496c-4082-ff0c-262247200601"
   },
   "outputs": [
    {
     "data": {
      "text/plain": [
       "4.734235356996349"
      ]
     },
     "execution_count": 41,
     "metadata": {
      "tags": []
     },
     "output_type": "execute_result"
    }
   ],
   "source": [
    "\n",
    "t=1-stats.norm.cdf(80,loc=60,scale=300)\n",
    "percentage = t*10\n",
    "percentage"
   ]
  },
  {
   "cell_type": "markdown",
   "metadata": {
    "id": "TBMn4rjR1oi8"
   },
   "source": [
    "What is the percentage of students who score less than 50."
   ]
  },
  {
   "cell_type": "code",
   "execution_count": null,
   "metadata": {
    "colab": {
     "base_uri": "https://localhost:8080/"
    },
    "id": "iDHguKE61q-o",
    "outputId": "3421d24a-c79f-4de2-92b9-8f78a976e3b4"
   },
   "outputs": [
    {
     "data": {
      "text/plain": [
       "-0.8333333333333334"
      ]
     },
     "execution_count": 42,
     "metadata": {
      "tags": []
     },
     "output_type": "execute_result"
    }
   ],
   "source": [
    "z=(50-60)/12\n",
    "z"
   ]
  },
  {
   "cell_type": "code",
   "execution_count": null,
   "metadata": {
    "colab": {
     "base_uri": "https://localhost:8080/"
    },
    "id": "LwfKsNwW2yN1",
    "outputId": "f8f6453f-d5ff-4b3c-eec3-50b1b9c84a73"
   },
   "outputs": [
    {
     "data": {
      "text/plain": [
       "0.20232838096364308"
      ]
     },
     "execution_count": 43,
     "metadata": {
      "tags": []
     },
     "output_type": "execute_result"
    }
   ],
   "source": [
    "stats.norm.cdf(z)\n"
   ]
  },
  {
   "cell_type": "markdown",
   "metadata": {
    "id": "DPHW9FSv3hSc"
   },
   "source": [
    "C. What should be the distinction mark if the highest 10% of students are to be awarded distinction?"
   ]
  },
  {
   "cell_type": "markdown",
   "metadata": {
    "id": "R49_v-N13iF-"
   },
   "source": [
    "Lets use the ztable that gives the area between 0 and positive z.\n",
    "\n",
    "    Z = (x - µ)/σ = (x - 60)/12\n",
    "\n",
    "    Here look at the normal tabel in inverse manner. \n",
    "\n",
    "    i.e., the value of Z, the area between 0 and z is 0.40. This is to be seen from the table. The Z value will make the area of 1.28 \n",
    "\n",
    "    Hence, (x - 60)/12 = 1.28 \n",
    "    x = 1.28 * 12 + 60 = 75.36\n",
    "\n",
    "    i.e., x= 75.36, This is the distinction mark, scored by 10% of the students."
   ]
  },
  {
   "cell_type": "markdown",
   "metadata": {},
   "source": [
    "6. Question: Explain 1 real life industry scenario (other than the ones mentioned above) where you can use the \n",
    "concepts learnt in this module of Applied statistics to get a data driven business solution."
   ]
  },
  {
   "cell_type": "markdown",
   "metadata": {},
   "source": [
    "The importance of statistics in government is utilized by making judgments about health, populations, education, and much more.\n",
    "\n",
    "It may help the government to check Which vaccine is assertive for the corona novel virus for the citizens.\n",
    "\n",
    "What are the progressive reports after vaccination, whether vaccines are useful or not?\n",
    "\n",
    "For instance, the government can analyze in which areas vaccination is done and know where they need to target, or where cases are increasing day by day with the help of polls."
   ]
  }
 ],
 "metadata": {
  "colab": {
   "collapsed_sections": [],
   "name": "GL Project Part -1",
   "provenance": []
  },
  "kernelspec": {
   "display_name": "Python 3",
   "language": "python",
   "name": "python3"
  },
  "language_info": {
   "codemirror_mode": {
    "name": "ipython",
    "version": 3
   },
   "file_extension": ".py",
   "mimetype": "text/x-python",
   "name": "python",
   "nbconvert_exporter": "python",
   "pygments_lexer": "ipython3",
   "version": "3.8.5"
  }
 },
 "nbformat": 4,
 "nbformat_minor": 1
}
